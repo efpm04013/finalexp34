{
 "cells": [
  {
   "cell_type": "markdown",
   "metadata": {},
   "source": [
    "## Read files into a pandas DataFrame"
   ]
  },
  {
   "cell_type": "code",
   "execution_count": 57,
   "metadata": {},
   "outputs": [],
   "source": [
    "PATH=\"/home/kirana/Documents/phd\"\n",
    "DATAPATH=\"/home/kirana/Documents/phd/data/experiment/cellphoneaccessory\""
   ]
  },
  {
   "cell_type": "code",
   "execution_count": 58,
   "metadata": {},
   "outputs": [],
   "source": [
    "import fastai\n",
    "from fastai.text import *\n",
    "from fastai import *"
   ]
  },
  {
   "cell_type": "code",
   "execution_count": 59,
   "metadata": {},
   "outputs": [
    {
     "name": "stdout",
     "output_type": "stream",
     "text": [
      "\u001b[0m\u001b[01;34minter\u001b[0m/\r\n",
      "reviews_Cell_Phones_and_Accessories_5.json\r\n",
      "\u001b[01;31mreviews_Cell_Phones_and_Accessories_5.json.gz\u001b[0m\r\n"
     ]
    }
   ],
   "source": [
    "ls {DATAPATH}"
   ]
  },
  {
   "cell_type": "code",
   "execution_count": 60,
   "metadata": {},
   "outputs": [],
   "source": [
    "import pandas as pd\n",
    "import gzip\n",
    "\n",
    "def parse(path):\n",
    "  g = gzip.open(path, 'rb')\n",
    "  for l in g:\n",
    "    yield eval(l)\n",
    "\n",
    "def getDF(path):\n",
    "  i = 0\n",
    "  df = {}\n",
    "  for d in parse(path):\n",
    "    df[i] = d\n",
    "    i += 1\n",
    "  return pd.DataFrame.from_dict(df, orient='index')\n",
    "\n",
    "df = getDF(f'{DATAPATH}/reviews_Cell_Phones_and_Accessories_5.json.gz')"
   ]
  },
  {
   "cell_type": "code",
   "execution_count": 61,
   "metadata": {},
   "outputs": [
    {
     "data": {
      "text/plain": [
       "5.0    108664\n",
       "4.0     39993\n",
       "3.0     21439\n",
       "1.0     13279\n",
       "2.0     11064\n",
       "Name: overall, dtype: int64"
      ]
     },
     "execution_count": 61,
     "metadata": {},
     "output_type": "execute_result"
    }
   ],
   "source": [
    "df['overall'].value_counts()"
   ]
  },
  {
   "cell_type": "code",
   "execution_count": 62,
   "metadata": {},
   "outputs": [],
   "source": [
    "df['label']=np.where(df['overall']>3,1,np.where(df['overall']<3,0,-1))"
   ]
  },
  {
   "cell_type": "code",
   "execution_count": 63,
   "metadata": {},
   "outputs": [
    {
     "data": {
      "text/plain": [
       " 1    148657\n",
       " 0     24343\n",
       "-1     21439\n",
       "Name: label, dtype: int64"
      ]
     },
     "execution_count": 63,
     "metadata": {},
     "output_type": "execute_result"
    }
   ],
   "source": [
    "df['label'].value_counts()"
   ]
  },
  {
   "cell_type": "code",
   "execution_count": 64,
   "metadata": {},
   "outputs": [
    {
     "data": {
      "text/html": [
       "<div>\n",
       "<style scoped>\n",
       "    .dataframe tbody tr th:only-of-type {\n",
       "        vertical-align: middle;\n",
       "    }\n",
       "\n",
       "    .dataframe tbody tr th {\n",
       "        vertical-align: top;\n",
       "    }\n",
       "\n",
       "    .dataframe thead th {\n",
       "        text-align: right;\n",
       "    }\n",
       "</style>\n",
       "<table border=\"1\" class=\"dataframe\">\n",
       "  <thead>\n",
       "    <tr style=\"text-align: right;\">\n",
       "      <th></th>\n",
       "      <th>reviewerID</th>\n",
       "      <th>asin</th>\n",
       "      <th>reviewerName</th>\n",
       "      <th>helpful</th>\n",
       "      <th>reviewText</th>\n",
       "      <th>overall</th>\n",
       "      <th>summary</th>\n",
       "      <th>unixReviewTime</th>\n",
       "      <th>reviewTime</th>\n",
       "      <th>label</th>\n",
       "    </tr>\n",
       "  </thead>\n",
       "  <tbody>\n",
       "    <tr>\n",
       "      <th>0</th>\n",
       "      <td>A30TL5EWN6DFXT</td>\n",
       "      <td>120401325X</td>\n",
       "      <td>christina</td>\n",
       "      <td>[0, 0]</td>\n",
       "      <td>They look good and stick good! I just don't li...</td>\n",
       "      <td>4.0</td>\n",
       "      <td>Looks Good</td>\n",
       "      <td>1400630400</td>\n",
       "      <td>05 21, 2014</td>\n",
       "      <td>1</td>\n",
       "    </tr>\n",
       "    <tr>\n",
       "      <th>1</th>\n",
       "      <td>ASY55RVNIL0UD</td>\n",
       "      <td>120401325X</td>\n",
       "      <td>emily l.</td>\n",
       "      <td>[0, 0]</td>\n",
       "      <td>These stickers work like the review says they ...</td>\n",
       "      <td>5.0</td>\n",
       "      <td>Really great product.</td>\n",
       "      <td>1389657600</td>\n",
       "      <td>01 14, 2014</td>\n",
       "      <td>1</td>\n",
       "    </tr>\n",
       "    <tr>\n",
       "      <th>2</th>\n",
       "      <td>A2TMXE2AFO7ONB</td>\n",
       "      <td>120401325X</td>\n",
       "      <td>Erica</td>\n",
       "      <td>[0, 0]</td>\n",
       "      <td>These are awesome and make my phone look so st...</td>\n",
       "      <td>5.0</td>\n",
       "      <td>LOVE LOVE LOVE</td>\n",
       "      <td>1403740800</td>\n",
       "      <td>06 26, 2014</td>\n",
       "      <td>1</td>\n",
       "    </tr>\n",
       "    <tr>\n",
       "      <th>3</th>\n",
       "      <td>AWJ0WZQYMYFQ4</td>\n",
       "      <td>120401325X</td>\n",
       "      <td>JM</td>\n",
       "      <td>[4, 4]</td>\n",
       "      <td>Item arrived in great time and was in perfect ...</td>\n",
       "      <td>4.0</td>\n",
       "      <td>Cute!</td>\n",
       "      <td>1382313600</td>\n",
       "      <td>10 21, 2013</td>\n",
       "      <td>1</td>\n",
       "    </tr>\n",
       "    <tr>\n",
       "      <th>4</th>\n",
       "      <td>ATX7CZYFXI1KW</td>\n",
       "      <td>120401325X</td>\n",
       "      <td>patrice m rogoza</td>\n",
       "      <td>[2, 3]</td>\n",
       "      <td>awesome! stays on, and looks great. can be use...</td>\n",
       "      <td>5.0</td>\n",
       "      <td>leopard home button sticker for iphone 4s</td>\n",
       "      <td>1359849600</td>\n",
       "      <td>02 3, 2013</td>\n",
       "      <td>1</td>\n",
       "    </tr>\n",
       "  </tbody>\n",
       "</table>\n",
       "</div>"
      ],
      "text/plain": [
       "       reviewerID        asin      reviewerName helpful  \\\n",
       "0  A30TL5EWN6DFXT  120401325X         christina  [0, 0]   \n",
       "1   ASY55RVNIL0UD  120401325X          emily l.  [0, 0]   \n",
       "2  A2TMXE2AFO7ONB  120401325X             Erica  [0, 0]   \n",
       "3   AWJ0WZQYMYFQ4  120401325X                JM  [4, 4]   \n",
       "4   ATX7CZYFXI1KW  120401325X  patrice m rogoza  [2, 3]   \n",
       "\n",
       "                                          reviewText  overall  \\\n",
       "0  They look good and stick good! I just don't li...      4.0   \n",
       "1  These stickers work like the review says they ...      5.0   \n",
       "2  These are awesome and make my phone look so st...      5.0   \n",
       "3  Item arrived in great time and was in perfect ...      4.0   \n",
       "4  awesome! stays on, and looks great. can be use...      5.0   \n",
       "\n",
       "                                     summary  unixReviewTime   reviewTime  \\\n",
       "0                                 Looks Good      1400630400  05 21, 2014   \n",
       "1                      Really great product.      1389657600  01 14, 2014   \n",
       "2                             LOVE LOVE LOVE      1403740800  06 26, 2014   \n",
       "3                                      Cute!      1382313600  10 21, 2013   \n",
       "4  leopard home button sticker for iphone 4s      1359849600   02 3, 2013   \n",
       "\n",
       "   label  \n",
       "0      1  \n",
       "1      1  \n",
       "2      1  \n",
       "3      1  \n",
       "4      1  "
      ]
     },
     "execution_count": 64,
     "metadata": {},
     "output_type": "execute_result"
    }
   ],
   "source": [
    "df.head()"
   ]
  },
  {
   "cell_type": "code",
   "execution_count": 65,
   "metadata": {},
   "outputs": [],
   "source": [
    "df['timestamp']=pd.to_datetime(df['unixReviewTime'],unit='s')"
   ]
  },
  {
   "cell_type": "code",
   "execution_count": 66,
   "metadata": {},
   "outputs": [
    {
     "data": {
      "text/plain": [
       "count                  194439\n",
       "unique                   2830\n",
       "top       2014-01-02 00:00:00\n",
       "freq                      450\n",
       "first     2001-02-22 00:00:00\n",
       "last      2014-07-23 00:00:00\n",
       "Name: timestamp, dtype: object"
      ]
     },
     "execution_count": 66,
     "metadata": {},
     "output_type": "execute_result"
    }
   ],
   "source": [
    "df['timestamp'].describe()"
   ]
  },
  {
   "cell_type": "code",
   "execution_count": 67,
   "metadata": {},
   "outputs": [
    {
     "data": {
      "text/plain": [
       "2001        1\n",
       "2002        1\n",
       "2003        2\n",
       "2004       44\n",
       "2005      130\n",
       "2006      240\n",
       "2007      389\n",
       "2008      677\n",
       "2009     1307\n",
       "2010     3431\n",
       "2011     9591\n",
       "2012    30342\n",
       "2013    93239\n",
       "2014    55045\n",
       "Name: timestamp, dtype: int64"
      ]
     },
     "execution_count": 67,
     "metadata": {},
     "output_type": "execute_result"
    }
   ],
   "source": [
    "df['timestamp'].dt.year.value_counts().sort_index()"
   ]
  },
  {
   "cell_type": "code",
   "execution_count": 68,
   "metadata": {},
   "outputs": [],
   "source": [
    "df['year']=df['timestamp'].dt.year"
   ]
  },
  {
   "cell_type": "code",
   "execution_count": 69,
   "metadata": {},
   "outputs": [
    {
     "data": {
      "text/plain": [
       "2013    93239\n",
       "2014    55045\n",
       "2012    30342\n",
       "2011     9591\n",
       "2010     3431\n",
       "2009     1307\n",
       "2008      677\n",
       "2007      389\n",
       "2006      240\n",
       "2005      130\n",
       "2004       44\n",
       "2003        2\n",
       "2002        1\n",
       "2001        1\n",
       "Name: year, dtype: int64"
      ]
     },
     "execution_count": 69,
     "metadata": {},
     "output_type": "execute_result"
    }
   ],
   "source": [
    "df['year'].value_counts()"
   ]
  },
  {
   "cell_type": "code",
   "execution_count": 70,
   "metadata": {},
   "outputs": [
    {
     "data": {
      "text/html": [
       "<div>\n",
       "<style scoped>\n",
       "    .dataframe tbody tr th:only-of-type {\n",
       "        vertical-align: middle;\n",
       "    }\n",
       "\n",
       "    .dataframe tbody tr th {\n",
       "        vertical-align: top;\n",
       "    }\n",
       "\n",
       "    .dataframe thead th {\n",
       "        text-align: right;\n",
       "    }\n",
       "</style>\n",
       "<table border=\"1\" class=\"dataframe\">\n",
       "  <thead>\n",
       "    <tr style=\"text-align: right;\">\n",
       "      <th>year</th>\n",
       "      <th>2001</th>\n",
       "      <th>2002</th>\n",
       "      <th>2003</th>\n",
       "      <th>2004</th>\n",
       "      <th>2005</th>\n",
       "      <th>2006</th>\n",
       "      <th>2007</th>\n",
       "      <th>2008</th>\n",
       "      <th>2009</th>\n",
       "      <th>2010</th>\n",
       "      <th>2011</th>\n",
       "      <th>2012</th>\n",
       "      <th>2013</th>\n",
       "      <th>2014</th>\n",
       "    </tr>\n",
       "    <tr>\n",
       "      <th>overall</th>\n",
       "      <th></th>\n",
       "      <th></th>\n",
       "      <th></th>\n",
       "      <th></th>\n",
       "      <th></th>\n",
       "      <th></th>\n",
       "      <th></th>\n",
       "      <th></th>\n",
       "      <th></th>\n",
       "      <th></th>\n",
       "      <th></th>\n",
       "      <th></th>\n",
       "      <th></th>\n",
       "      <th></th>\n",
       "    </tr>\n",
       "  </thead>\n",
       "  <tbody>\n",
       "    <tr>\n",
       "      <th>1.0</th>\n",
       "      <td>0</td>\n",
       "      <td>0</td>\n",
       "      <td>0</td>\n",
       "      <td>4</td>\n",
       "      <td>11</td>\n",
       "      <td>28</td>\n",
       "      <td>24</td>\n",
       "      <td>52</td>\n",
       "      <td>139</td>\n",
       "      <td>264</td>\n",
       "      <td>763</td>\n",
       "      <td>2258</td>\n",
       "      <td>6225</td>\n",
       "      <td>3511</td>\n",
       "    </tr>\n",
       "    <tr>\n",
       "      <th>2.0</th>\n",
       "      <td>0</td>\n",
       "      <td>0</td>\n",
       "      <td>0</td>\n",
       "      <td>7</td>\n",
       "      <td>18</td>\n",
       "      <td>32</td>\n",
       "      <td>29</td>\n",
       "      <td>51</td>\n",
       "      <td>95</td>\n",
       "      <td>233</td>\n",
       "      <td>660</td>\n",
       "      <td>1850</td>\n",
       "      <td>5296</td>\n",
       "      <td>2793</td>\n",
       "    </tr>\n",
       "    <tr>\n",
       "      <th>3.0</th>\n",
       "      <td>0</td>\n",
       "      <td>0</td>\n",
       "      <td>0</td>\n",
       "      <td>2</td>\n",
       "      <td>15</td>\n",
       "      <td>33</td>\n",
       "      <td>50</td>\n",
       "      <td>73</td>\n",
       "      <td>152</td>\n",
       "      <td>428</td>\n",
       "      <td>1028</td>\n",
       "      <td>3407</td>\n",
       "      <td>10806</td>\n",
       "      <td>5445</td>\n",
       "    </tr>\n",
       "    <tr>\n",
       "      <th>4.0</th>\n",
       "      <td>0</td>\n",
       "      <td>0</td>\n",
       "      <td>0</td>\n",
       "      <td>16</td>\n",
       "      <td>39</td>\n",
       "      <td>75</td>\n",
       "      <td>111</td>\n",
       "      <td>197</td>\n",
       "      <td>302</td>\n",
       "      <td>858</td>\n",
       "      <td>2257</td>\n",
       "      <td>6412</td>\n",
       "      <td>19175</td>\n",
       "      <td>10551</td>\n",
       "    </tr>\n",
       "    <tr>\n",
       "      <th>5.0</th>\n",
       "      <td>1</td>\n",
       "      <td>1</td>\n",
       "      <td>2</td>\n",
       "      <td>15</td>\n",
       "      <td>47</td>\n",
       "      <td>72</td>\n",
       "      <td>175</td>\n",
       "      <td>304</td>\n",
       "      <td>619</td>\n",
       "      <td>1648</td>\n",
       "      <td>4883</td>\n",
       "      <td>16415</td>\n",
       "      <td>51737</td>\n",
       "      <td>32745</td>\n",
       "    </tr>\n",
       "  </tbody>\n",
       "</table>\n",
       "</div>"
      ],
      "text/plain": [
       "year     2001  2002  2003  2004  2005  2006  2007  2008  2009  2010  2011  \\\n",
       "overall                                                                     \n",
       "1.0         0     0     0     4    11    28    24    52   139   264   763   \n",
       "2.0         0     0     0     7    18    32    29    51    95   233   660   \n",
       "3.0         0     0     0     2    15    33    50    73   152   428  1028   \n",
       "4.0         0     0     0    16    39    75   111   197   302   858  2257   \n",
       "5.0         1     1     2    15    47    72   175   304   619  1648  4883   \n",
       "\n",
       "year      2012   2013   2014  \n",
       "overall                       \n",
       "1.0       2258   6225   3511  \n",
       "2.0       1850   5296   2793  \n",
       "3.0       3407  10806   5445  \n",
       "4.0       6412  19175  10551  \n",
       "5.0      16415  51737  32745  "
      ]
     },
     "execution_count": 70,
     "metadata": {},
     "output_type": "execute_result"
    }
   ],
   "source": [
    "pd.crosstab(df['overall'],df['year'])"
   ]
  },
  {
   "cell_type": "code",
   "execution_count": 71,
   "metadata": {},
   "outputs": [],
   "source": [
    "# Take the years after 2014 out as full year is not there"
   ]
  },
  {
   "cell_type": "code",
   "execution_count": 72,
   "metadata": {},
   "outputs": [],
   "source": [
    "#df=df.loc[df['year']<2014]"
   ]
  },
  {
   "cell_type": "code",
   "execution_count": 73,
   "metadata": {},
   "outputs": [],
   "source": [
    "#df.shape"
   ]
  },
  {
   "cell_type": "code",
   "execution_count": 74,
   "metadata": {},
   "outputs": [],
   "source": [
    "# Remove the old data also out"
   ]
  },
  {
   "cell_type": "code",
   "execution_count": 75,
   "metadata": {},
   "outputs": [],
   "source": [
    "#df=df.loc[df['year']>2011]"
   ]
  },
  {
   "cell_type": "code",
   "execution_count": 76,
   "metadata": {},
   "outputs": [],
   "source": [
    "#df.shape"
   ]
  },
  {
   "cell_type": "code",
   "execution_count": 77,
   "metadata": {},
   "outputs": [],
   "source": [
    "#df['label'].head()"
   ]
  },
  {
   "cell_type": "code",
   "execution_count": 78,
   "metadata": {},
   "outputs": [
    {
     "data": {
      "text/plain": [
       " 1    148657\n",
       " 0     24343\n",
       "-1     21439\n",
       "Name: label, dtype: int64"
      ]
     },
     "execution_count": 78,
     "metadata": {},
     "output_type": "execute_result"
    }
   ],
   "source": [
    "df['label'].value_counts()"
   ]
  },
  {
   "cell_type": "code",
   "execution_count": 79,
   "metadata": {},
   "outputs": [],
   "source": [
    "df=df.loc[df['label']!=-1]"
   ]
  },
  {
   "cell_type": "code",
   "execution_count": 80,
   "metadata": {},
   "outputs": [
    {
     "data": {
      "text/plain": [
       "(173000, 12)"
      ]
     },
     "execution_count": 80,
     "metadata": {},
     "output_type": "execute_result"
    }
   ],
   "source": [
    "df.shape"
   ]
  },
  {
   "cell_type": "code",
   "execution_count": 81,
   "metadata": {},
   "outputs": [],
   "source": [
    "df['label']=1-df['label']"
   ]
  },
  {
   "cell_type": "code",
   "execution_count": 82,
   "metadata": {},
   "outputs": [
    {
     "data": {
      "text/plain": [
       "0    148657\n",
       "1     24343\n",
       "Name: label, dtype: int64"
      ]
     },
     "execution_count": 82,
     "metadata": {},
     "output_type": "execute_result"
    }
   ],
   "source": [
    "df['label'].value_counts()"
   ]
  },
  {
   "cell_type": "code",
   "execution_count": 83,
   "metadata": {},
   "outputs": [],
   "source": [
    "from sklearn.model_selection import train_test_split"
   ]
  },
  {
   "cell_type": "code",
   "execution_count": 82,
   "metadata": {},
   "outputs": [],
   "source": [
    "df_train,df_valid=train_test_split(df,train_size=0.5,test_size=0.5,random_state=11,shuffle=True,stratify=df['label'])"
   ]
  },
  {
   "cell_type": "code",
   "execution_count": 83,
   "metadata": {},
   "outputs": [
    {
     "name": "stderr",
     "output_type": "stream",
     "text": [
      "/home/kirana/anaconda3/lib/python3.7/site-packages/ipykernel_launcher.py:1: SettingWithCopyWarning: \n",
      "A value is trying to be set on a copy of a slice from a DataFrame.\n",
      "Try using .loc[row_indexer,col_indexer] = value instead\n",
      "\n",
      "See the caveats in the documentation: http://pandas.pydata.org/pandas-docs/stable/indexing.html#indexing-view-versus-copy\n",
      "  \"\"\"Entry point for launching an IPython kernel.\n",
      "/home/kirana/anaconda3/lib/python3.7/site-packages/ipykernel_launcher.py:2: SettingWithCopyWarning: \n",
      "A value is trying to be set on a copy of a slice from a DataFrame.\n",
      "Try using .loc[row_indexer,col_indexer] = value instead\n",
      "\n",
      "See the caveats in the documentation: http://pandas.pydata.org/pandas-docs/stable/indexing.html#indexing-view-versus-copy\n",
      "  \n"
     ]
    }
   ],
   "source": [
    "df_train['dstype']='train'\n",
    "df_valid['dstype']='test'"
   ]
  },
  {
   "cell_type": "code",
   "execution_count": 84,
   "metadata": {},
   "outputs": [
    {
     "data": {
      "text/html": [
       "<div>\n",
       "<style scoped>\n",
       "    .dataframe tbody tr th:only-of-type {\n",
       "        vertical-align: middle;\n",
       "    }\n",
       "\n",
       "    .dataframe tbody tr th {\n",
       "        vertical-align: top;\n",
       "    }\n",
       "\n",
       "    .dataframe thead th {\n",
       "        text-align: right;\n",
       "    }\n",
       "</style>\n",
       "<table border=\"1\" class=\"dataframe\">\n",
       "  <thead>\n",
       "    <tr style=\"text-align: right;\">\n",
       "      <th></th>\n",
       "      <th>reviewerID</th>\n",
       "      <th>asin</th>\n",
       "      <th>reviewerName</th>\n",
       "      <th>helpful</th>\n",
       "      <th>reviewText</th>\n",
       "      <th>overall</th>\n",
       "      <th>summary</th>\n",
       "      <th>unixReviewTime</th>\n",
       "      <th>reviewTime</th>\n",
       "      <th>label</th>\n",
       "      <th>dstype</th>\n",
       "    </tr>\n",
       "  </thead>\n",
       "  <tbody>\n",
       "    <tr>\n",
       "      <th>154964</th>\n",
       "      <td>A3KWJ8B4CC5ECL</td>\n",
       "      <td>B00BW6GH76</td>\n",
       "      <td>karen</td>\n",
       "      <td>[0, 0]</td>\n",
       "      <td>I was initially torn between the Neo Hybrid an...</td>\n",
       "      <td>5.0</td>\n",
       "      <td>Slim Armor vs. Neo Hybrid</td>\n",
       "      <td>1377820800</td>\n",
       "      <td>08 30, 2013</td>\n",
       "      <td>0</td>\n",
       "      <td>train</td>\n",
       "    </tr>\n",
       "    <tr>\n",
       "      <th>42712</th>\n",
       "      <td>A1MHQBDNXI9X4U</td>\n",
       "      <td>B004WMDTHS</td>\n",
       "      <td>Lawrence bowman</td>\n",
       "      <td>[0, 0]</td>\n",
       "      <td>Nice fit like it. Not really strong but it is ...</td>\n",
       "      <td>4.0</td>\n",
       "      <td>I like It</td>\n",
       "      <td>1354233600</td>\n",
       "      <td>11 30, 2012</td>\n",
       "      <td>0</td>\n",
       "      <td>train</td>\n",
       "    </tr>\n",
       "    <tr>\n",
       "      <th>13443</th>\n",
       "      <td>A1NNMN8XNH4264</td>\n",
       "      <td>B002YFDRHW</td>\n",
       "      <td>K. Myers</td>\n",
       "      <td>[5, 6]</td>\n",
       "      <td>I bought the New Trent IMP880 a year ago (now ...</td>\n",
       "      <td>4.0</td>\n",
       "      <td>Battery works fine, but iPad / iPhone cable is...</td>\n",
       "      <td>1319587200</td>\n",
       "      <td>10 26, 2011</td>\n",
       "      <td>0</td>\n",
       "      <td>train</td>\n",
       "    </tr>\n",
       "    <tr>\n",
       "      <th>93385</th>\n",
       "      <td>A4KU0XJNBH674</td>\n",
       "      <td>B0088YDF7K</td>\n",
       "      <td>Army O3Guy</td>\n",
       "      <td>[0, 0]</td>\n",
       "      <td>Great customer service, and great product. The...</td>\n",
       "      <td>5.0</td>\n",
       "      <td>2nd Time is a Charm</td>\n",
       "      <td>1352505600</td>\n",
       "      <td>11 10, 2012</td>\n",
       "      <td>0</td>\n",
       "      <td>train</td>\n",
       "    </tr>\n",
       "    <tr>\n",
       "      <th>16442</th>\n",
       "      <td>A1I7OF3NNJEEXP</td>\n",
       "      <td>B003KWM9BS</td>\n",
       "      <td>Karen Chhem</td>\n",
       "      <td>[0, 0]</td>\n",
       "      <td>bought this for my galaxy note 2 it works wond...</td>\n",
       "      <td>5.0</td>\n",
       "      <td>love it.</td>\n",
       "      <td>1389139200</td>\n",
       "      <td>01 8, 2014</td>\n",
       "      <td>0</td>\n",
       "      <td>train</td>\n",
       "    </tr>\n",
       "  </tbody>\n",
       "</table>\n",
       "</div>"
      ],
      "text/plain": [
       "            reviewerID        asin     reviewerName helpful  \\\n",
       "154964  A3KWJ8B4CC5ECL  B00BW6GH76            karen  [0, 0]   \n",
       "42712   A1MHQBDNXI9X4U  B004WMDTHS  Lawrence bowman  [0, 0]   \n",
       "13443   A1NNMN8XNH4264  B002YFDRHW         K. Myers  [5, 6]   \n",
       "93385    A4KU0XJNBH674  B0088YDF7K       Army O3Guy  [0, 0]   \n",
       "16442   A1I7OF3NNJEEXP  B003KWM9BS      Karen Chhem  [0, 0]   \n",
       "\n",
       "                                               reviewText  overall  \\\n",
       "154964  I was initially torn between the Neo Hybrid an...      5.0   \n",
       "42712   Nice fit like it. Not really strong but it is ...      4.0   \n",
       "13443   I bought the New Trent IMP880 a year ago (now ...      4.0   \n",
       "93385   Great customer service, and great product. The...      5.0   \n",
       "16442   bought this for my galaxy note 2 it works wond...      5.0   \n",
       "\n",
       "                                                  summary  unixReviewTime  \\\n",
       "154964                          Slim Armor vs. Neo Hybrid      1377820800   \n",
       "42712                                           I like It      1354233600   \n",
       "13443   Battery works fine, but iPad / iPhone cable is...      1319587200   \n",
       "93385                                 2nd Time is a Charm      1352505600   \n",
       "16442                                            love it.      1389139200   \n",
       "\n",
       "         reviewTime  label dstype  \n",
       "154964  08 30, 2013      0  train  \n",
       "42712   11 30, 2012      0  train  \n",
       "13443   10 26, 2011      0  train  \n",
       "93385   11 10, 2012      0  train  \n",
       "16442    01 8, 2014      0  train  "
      ]
     },
     "execution_count": 84,
     "metadata": {},
     "output_type": "execute_result"
    }
   ],
   "source": [
    "df_train.head()"
   ]
  },
  {
   "cell_type": "code",
   "execution_count": 85,
   "metadata": {},
   "outputs": [],
   "source": [
    "df=pd.concat([df_train,df_valid],axis=0)"
   ]
  },
  {
   "cell_type": "code",
   "execution_count": 86,
   "metadata": {},
   "outputs": [
    {
     "data": {
      "text/html": [
       "<div>\n",
       "<style scoped>\n",
       "    .dataframe tbody tr th:only-of-type {\n",
       "        vertical-align: middle;\n",
       "    }\n",
       "\n",
       "    .dataframe tbody tr th {\n",
       "        vertical-align: top;\n",
       "    }\n",
       "\n",
       "    .dataframe thead th {\n",
       "        text-align: right;\n",
       "    }\n",
       "</style>\n",
       "<table border=\"1\" class=\"dataframe\">\n",
       "  <thead>\n",
       "    <tr style=\"text-align: right;\">\n",
       "      <th></th>\n",
       "      <th>reviewerID</th>\n",
       "      <th>asin</th>\n",
       "      <th>reviewerName</th>\n",
       "      <th>helpful</th>\n",
       "      <th>reviewText</th>\n",
       "      <th>overall</th>\n",
       "      <th>summary</th>\n",
       "      <th>unixReviewTime</th>\n",
       "      <th>reviewTime</th>\n",
       "      <th>label</th>\n",
       "      <th>dstype</th>\n",
       "    </tr>\n",
       "  </thead>\n",
       "  <tbody>\n",
       "    <tr>\n",
       "      <th>154964</th>\n",
       "      <td>A3KWJ8B4CC5ECL</td>\n",
       "      <td>B00BW6GH76</td>\n",
       "      <td>karen</td>\n",
       "      <td>[0, 0]</td>\n",
       "      <td>I was initially torn between the Neo Hybrid an...</td>\n",
       "      <td>5.0</td>\n",
       "      <td>Slim Armor vs. Neo Hybrid</td>\n",
       "      <td>1377820800</td>\n",
       "      <td>08 30, 2013</td>\n",
       "      <td>0</td>\n",
       "      <td>train</td>\n",
       "    </tr>\n",
       "    <tr>\n",
       "      <th>42712</th>\n",
       "      <td>A1MHQBDNXI9X4U</td>\n",
       "      <td>B004WMDTHS</td>\n",
       "      <td>Lawrence bowman</td>\n",
       "      <td>[0, 0]</td>\n",
       "      <td>Nice fit like it. Not really strong but it is ...</td>\n",
       "      <td>4.0</td>\n",
       "      <td>I like It</td>\n",
       "      <td>1354233600</td>\n",
       "      <td>11 30, 2012</td>\n",
       "      <td>0</td>\n",
       "      <td>train</td>\n",
       "    </tr>\n",
       "    <tr>\n",
       "      <th>13443</th>\n",
       "      <td>A1NNMN8XNH4264</td>\n",
       "      <td>B002YFDRHW</td>\n",
       "      <td>K. Myers</td>\n",
       "      <td>[5, 6]</td>\n",
       "      <td>I bought the New Trent IMP880 a year ago (now ...</td>\n",
       "      <td>4.0</td>\n",
       "      <td>Battery works fine, but iPad / iPhone cable is...</td>\n",
       "      <td>1319587200</td>\n",
       "      <td>10 26, 2011</td>\n",
       "      <td>0</td>\n",
       "      <td>train</td>\n",
       "    </tr>\n",
       "    <tr>\n",
       "      <th>93385</th>\n",
       "      <td>A4KU0XJNBH674</td>\n",
       "      <td>B0088YDF7K</td>\n",
       "      <td>Army O3Guy</td>\n",
       "      <td>[0, 0]</td>\n",
       "      <td>Great customer service, and great product. The...</td>\n",
       "      <td>5.0</td>\n",
       "      <td>2nd Time is a Charm</td>\n",
       "      <td>1352505600</td>\n",
       "      <td>11 10, 2012</td>\n",
       "      <td>0</td>\n",
       "      <td>train</td>\n",
       "    </tr>\n",
       "    <tr>\n",
       "      <th>16442</th>\n",
       "      <td>A1I7OF3NNJEEXP</td>\n",
       "      <td>B003KWM9BS</td>\n",
       "      <td>Karen Chhem</td>\n",
       "      <td>[0, 0]</td>\n",
       "      <td>bought this for my galaxy note 2 it works wond...</td>\n",
       "      <td>5.0</td>\n",
       "      <td>love it.</td>\n",
       "      <td>1389139200</td>\n",
       "      <td>01 8, 2014</td>\n",
       "      <td>0</td>\n",
       "      <td>train</td>\n",
       "    </tr>\n",
       "  </tbody>\n",
       "</table>\n",
       "</div>"
      ],
      "text/plain": [
       "            reviewerID        asin     reviewerName helpful  \\\n",
       "154964  A3KWJ8B4CC5ECL  B00BW6GH76            karen  [0, 0]   \n",
       "42712   A1MHQBDNXI9X4U  B004WMDTHS  Lawrence bowman  [0, 0]   \n",
       "13443   A1NNMN8XNH4264  B002YFDRHW         K. Myers  [5, 6]   \n",
       "93385    A4KU0XJNBH674  B0088YDF7K       Army O3Guy  [0, 0]   \n",
       "16442   A1I7OF3NNJEEXP  B003KWM9BS      Karen Chhem  [0, 0]   \n",
       "\n",
       "                                               reviewText  overall  \\\n",
       "154964  I was initially torn between the Neo Hybrid an...      5.0   \n",
       "42712   Nice fit like it. Not really strong but it is ...      4.0   \n",
       "13443   I bought the New Trent IMP880 a year ago (now ...      4.0   \n",
       "93385   Great customer service, and great product. The...      5.0   \n",
       "16442   bought this for my galaxy note 2 it works wond...      5.0   \n",
       "\n",
       "                                                  summary  unixReviewTime  \\\n",
       "154964                          Slim Armor vs. Neo Hybrid      1377820800   \n",
       "42712                                           I like It      1354233600   \n",
       "13443   Battery works fine, but iPad / iPhone cable is...      1319587200   \n",
       "93385                                 2nd Time is a Charm      1352505600   \n",
       "16442                                            love it.      1389139200   \n",
       "\n",
       "         reviewTime  label dstype  \n",
       "154964  08 30, 2013      0  train  \n",
       "42712   11 30, 2012      0  train  \n",
       "13443   10 26, 2011      0  train  \n",
       "93385   11 10, 2012      0  train  \n",
       "16442    01 8, 2014      0  train  "
      ]
     },
     "execution_count": 86,
     "metadata": {},
     "output_type": "execute_result"
    }
   ],
   "source": [
    "df.head()"
   ]
  },
  {
   "cell_type": "code",
   "execution_count": 87,
   "metadata": {},
   "outputs": [],
   "source": [
    "df.rename(mapper={'reviewText':'text'},axis=1,inplace=True)"
   ]
  },
  {
   "cell_type": "code",
   "execution_count": 88,
   "metadata": {},
   "outputs": [],
   "source": [
    "df=df[['text','label','dstype']]"
   ]
  },
  {
   "cell_type": "code",
   "execution_count": 89,
   "metadata": {},
   "outputs": [
    {
     "data": {
      "text/html": [
       "<div>\n",
       "<style scoped>\n",
       "    .dataframe tbody tr th:only-of-type {\n",
       "        vertical-align: middle;\n",
       "    }\n",
       "\n",
       "    .dataframe tbody tr th {\n",
       "        vertical-align: top;\n",
       "    }\n",
       "\n",
       "    .dataframe thead th {\n",
       "        text-align: right;\n",
       "    }\n",
       "</style>\n",
       "<table border=\"1\" class=\"dataframe\">\n",
       "  <thead>\n",
       "    <tr style=\"text-align: right;\">\n",
       "      <th></th>\n",
       "      <th>text</th>\n",
       "      <th>label</th>\n",
       "      <th>dstype</th>\n",
       "    </tr>\n",
       "  </thead>\n",
       "  <tbody>\n",
       "    <tr>\n",
       "      <th>154964</th>\n",
       "      <td>I was initially torn between the Neo Hybrid an...</td>\n",
       "      <td>0</td>\n",
       "      <td>train</td>\n",
       "    </tr>\n",
       "    <tr>\n",
       "      <th>42712</th>\n",
       "      <td>Nice fit like it. Not really strong but it is ...</td>\n",
       "      <td>0</td>\n",
       "      <td>train</td>\n",
       "    </tr>\n",
       "    <tr>\n",
       "      <th>13443</th>\n",
       "      <td>I bought the New Trent IMP880 a year ago (now ...</td>\n",
       "      <td>0</td>\n",
       "      <td>train</td>\n",
       "    </tr>\n",
       "    <tr>\n",
       "      <th>93385</th>\n",
       "      <td>Great customer service, and great product. The...</td>\n",
       "      <td>0</td>\n",
       "      <td>train</td>\n",
       "    </tr>\n",
       "    <tr>\n",
       "      <th>16442</th>\n",
       "      <td>bought this for my galaxy note 2 it works wond...</td>\n",
       "      <td>0</td>\n",
       "      <td>train</td>\n",
       "    </tr>\n",
       "  </tbody>\n",
       "</table>\n",
       "</div>"
      ],
      "text/plain": [
       "                                                     text  label dstype\n",
       "154964  I was initially torn between the Neo Hybrid an...      0  train\n",
       "42712   Nice fit like it. Not really strong but it is ...      0  train\n",
       "13443   I bought the New Trent IMP880 a year ago (now ...      0  train\n",
       "93385   Great customer service, and great product. The...      0  train\n",
       "16442   bought this for my galaxy note 2 it works wond...      0  train"
      ]
     },
     "execution_count": 89,
     "metadata": {},
     "output_type": "execute_result"
    }
   ],
   "source": [
    "df.head()"
   ]
  },
  {
   "cell_type": "markdown",
   "metadata": {},
   "source": [
    "## Cross-Validation"
   ]
  },
  {
   "cell_type": "code",
   "execution_count": 90,
   "metadata": {},
   "outputs": [],
   "source": [
    "from sklearn.model_selection import train_test_split"
   ]
  },
  {
   "cell_type": "code",
   "execution_count": 91,
   "metadata": {},
   "outputs": [],
   "source": [
    "df_train,df_valid=train_test_split(df,train_size=0.9,test_size=0.1,random_state=11,shuffle=True)"
   ]
  },
  {
   "cell_type": "code",
   "execution_count": 92,
   "metadata": {},
   "outputs": [
    {
     "data": {
      "text/plain": [
       "((173000, 3), (155700, 3), (17300, 3))"
      ]
     },
     "execution_count": 92,
     "metadata": {},
     "output_type": "execute_result"
    }
   ],
   "source": [
    "df.shape,df_train.shape,df_valid.shape"
   ]
  },
  {
   "cell_type": "code",
   "execution_count": 93,
   "metadata": {},
   "outputs": [
    {
     "data": {
      "text/html": [
       "<div>\n",
       "<style scoped>\n",
       "    .dataframe tbody tr th:only-of-type {\n",
       "        vertical-align: middle;\n",
       "    }\n",
       "\n",
       "    .dataframe tbody tr th {\n",
       "        vertical-align: top;\n",
       "    }\n",
       "\n",
       "    .dataframe thead th {\n",
       "        text-align: right;\n",
       "    }\n",
       "</style>\n",
       "<table border=\"1\" class=\"dataframe\">\n",
       "  <thead>\n",
       "    <tr style=\"text-align: right;\">\n",
       "      <th></th>\n",
       "      <th>text</th>\n",
       "      <th>label</th>\n",
       "      <th>dstype</th>\n",
       "    </tr>\n",
       "  </thead>\n",
       "  <tbody>\n",
       "    <tr>\n",
       "      <th>154964</th>\n",
       "      <td>I was initially torn between the Neo Hybrid an...</td>\n",
       "      <td>0</td>\n",
       "      <td>train</td>\n",
       "    </tr>\n",
       "    <tr>\n",
       "      <th>42712</th>\n",
       "      <td>Nice fit like it. Not really strong but it is ...</td>\n",
       "      <td>0</td>\n",
       "      <td>train</td>\n",
       "    </tr>\n",
       "    <tr>\n",
       "      <th>13443</th>\n",
       "      <td>I bought the New Trent IMP880 a year ago (now ...</td>\n",
       "      <td>0</td>\n",
       "      <td>train</td>\n",
       "    </tr>\n",
       "    <tr>\n",
       "      <th>93385</th>\n",
       "      <td>Great customer service, and great product. The...</td>\n",
       "      <td>0</td>\n",
       "      <td>train</td>\n",
       "    </tr>\n",
       "    <tr>\n",
       "      <th>16442</th>\n",
       "      <td>bought this for my galaxy note 2 it works wond...</td>\n",
       "      <td>0</td>\n",
       "      <td>train</td>\n",
       "    </tr>\n",
       "  </tbody>\n",
       "</table>\n",
       "</div>"
      ],
      "text/plain": [
       "                                                     text  label dstype\n",
       "154964  I was initially torn between the Neo Hybrid an...      0  train\n",
       "42712   Nice fit like it. Not really strong but it is ...      0  train\n",
       "13443   I bought the New Trent IMP880 a year ago (now ...      0  train\n",
       "93385   Great customer service, and great product. The...      0  train\n",
       "16442   bought this for my galaxy note 2 it works wond...      0  train"
      ]
     },
     "execution_count": 93,
     "metadata": {},
     "output_type": "execute_result"
    }
   ],
   "source": [
    "df.head()"
   ]
  },
  {
   "cell_type": "code",
   "execution_count": 94,
   "metadata": {},
   "outputs": [],
   "source": [
    "df_train_file=df_train.loc[:,['label','text']]\n",
    "df_valid_file=df_valid.loc[:,['label','text']]"
   ]
  },
  {
   "cell_type": "code",
   "execution_count": 95,
   "metadata": {},
   "outputs": [],
   "source": [
    "df_train_file.to_csv(f'{DATAPATH}/inter/df_train.csv',index=False)\n",
    "df_valid_file.to_csv(f'{DATAPATH}/inter/df_valid.csv',index=False)\n",
    "\n"
   ]
  },
  {
   "cell_type": "markdown",
   "metadata": {},
   "source": [
    "## Tokenize and Numericalize"
   ]
  },
  {
   "cell_type": "code",
   "execution_count": 96,
   "metadata": {},
   "outputs": [],
   "source": [
    "re1 = re.compile(r'  +')\n",
    "\n",
    "def fixup(x):\n",
    "    x = x.replace('#39;', \"'\").replace('amp;', '&').replace('#146;', \"'\").replace(\n",
    "        'nbsp;', ' ').replace('#36;', '$').replace('\\\\n', \"\\n\").replace('quot;', \"'\").replace(\n",
    "        '<br />', \"\\n\").replace('\\\\\"', '\"').replace('<unk>', 'u_n').replace(' @.@ ', '.').replace(\n",
    "        ' @-@ ', '-').replace('\\\\', ' \\\\ ')\n",
    "    return re1.sub(' ', html.unescape(x))\n",
    "\n",
    "def get_texts(df, n_lbls=1):\n",
    "    labels = df.iloc[:, range(n_lbls)].values.astype(np.int64)\n",
    "\n",
    "    texts = f'\\n{BOS} {FLD} 1 ' + df.iloc[:,n_lbls].astype(str)\n",
    "    for i in range(n_lbls + 1, len(df.columns)):\n",
    "        texts += f' {FLD} {i - n_lbls} ' + df[i].astype(str)\n",
    "    texts = texts.apply(fixup).values.astype(str)\n",
    "\n",
    "    tokenizer = Tokenizer(n_cpus=10)\n",
    "    tokop=tokenizer.process_all(texts)\n",
    "    return tokop, list(labels)\n",
    "\n",
    "\n",
    "def get_all(df, n_lbls):\n",
    "    tok, labels = [], []\n",
    "    #import pdb\n",
    "    #pdb.set_trace()\n",
    "    for i, txt in enumerate(df):\n",
    "        tok_, labels_ = get_texts(txt, n_lbls)\n",
    "        tok += tok_\n",
    "        labels += labels_\n",
    "    return tok, labels"
   ]
  },
  {
   "cell_type": "code",
   "execution_count": 97,
   "metadata": {},
   "outputs": [],
   "source": [
    "chunksize=24000\n",
    "chunk_train=pd.read_csv(f'{DATAPATH}/inter/df_train.csv',chunksize=chunksize)\n",
    "chunk_valid=pd.read_csv(f'{DATAPATH}/inter/df_valid.csv',chunksize=chunksize)\n",
    "\n"
   ]
  },
  {
   "cell_type": "code",
   "execution_count": 98,
   "metadata": {},
   "outputs": [],
   "source": [
    "train_tokens, train_labels = get_all(chunk_train, 1)\n",
    "valid_tokens, valid_labels = get_all(chunk_valid, 1)\n"
   ]
  },
  {
   "cell_type": "code",
   "execution_count": 99,
   "metadata": {},
   "outputs": [
    {
     "name": "stderr",
     "output_type": "stream",
     "text": [
      "/home/kirana/anaconda3/lib/python3.7/site-packages/ipykernel_launcher.py:1: SettingWithCopyWarning: \n",
      "A value is trying to be set on a copy of a slice from a DataFrame.\n",
      "Try using .loc[row_indexer,col_indexer] = value instead\n",
      "\n",
      "See the caveats in the documentation: http://pandas.pydata.org/pandas-docs/stable/indexing.html#indexing-view-versus-copy\n",
      "  \"\"\"Entry point for launching an IPython kernel.\n",
      "/home/kirana/anaconda3/lib/python3.7/site-packages/ipykernel_launcher.py:2: SettingWithCopyWarning: \n",
      "A value is trying to be set on a copy of a slice from a DataFrame.\n",
      "Try using .loc[row_indexer,col_indexer] = value instead\n",
      "\n",
      "See the caveats in the documentation: http://pandas.pydata.org/pandas-docs/stable/indexing.html#indexing-view-versus-copy\n",
      "  \n"
     ]
    }
   ],
   "source": [
    "df_train['words']=train_tokens\n",
    "df_valid['words']=valid_tokens\n"
   ]
  },
  {
   "cell_type": "code",
   "execution_count": 100,
   "metadata": {},
   "outputs": [
    {
     "data": {
      "text/plain": [
       "[('xxmaj', 967025),\n",
       " ('.', 801214),\n",
       " ('the', 783007),\n",
       " ('i', 470653),\n",
       " (',', 469233),\n",
       " ('it', 434791),\n",
       " ('and', 399359),\n",
       " ('a', 366226),\n",
       " ('to', 361382),\n",
       " ('is', 261888),\n",
       " ('this', 217437),\n",
       " ('xxup', 216354),\n",
       " ('of', 189536),\n",
       " ('for', 189372),\n",
       " ('my', 187154),\n",
       " ('1', 165098),\n",
       " (' \\n ', 155700),\n",
       " ('xxbos', 155700),\n",
       " ('xxfld', 155700),\n",
       " ('that', 155363),\n",
       " ('in', 146501),\n",
       " ('on', 145128),\n",
       " ('phone', 144257),\n",
       " ('with', 141468),\n",
       " ('you', 130233)]"
      ]
     },
     "execution_count": 100,
     "metadata": {},
     "output_type": "execute_result"
    }
   ],
   "source": [
    "freq = Counter(p for o in train_tokens for p in o)\n",
    "freq.most_common(25)"
   ]
  },
  {
   "cell_type": "code",
   "execution_count": 101,
   "metadata": {},
   "outputs": [],
   "source": [
    "max_vocab = 60000\n",
    "min_freq = 2\n",
    "\n",
    "itos = [o for o, c in freq.most_common(max_vocab) if c > min_freq]\n",
    "itos.insert(0, '_pad_')\n",
    "itos.insert(0, '_unk_')"
   ]
  },
  {
   "cell_type": "code",
   "execution_count": 102,
   "metadata": {},
   "outputs": [
    {
     "data": {
      "text/plain": [
       "30238"
      ]
     },
     "execution_count": 102,
     "metadata": {},
     "output_type": "execute_result"
    }
   ],
   "source": [
    "stoi = collections.defaultdict(lambda: 0, { v: k for k, v in enumerate(itos) })\n",
    "len(itos)"
   ]
  },
  {
   "cell_type": "code",
   "execution_count": 103,
   "metadata": {},
   "outputs": [],
   "source": [
    "trn_lm = np.array([ [stoi[o] for o in p] for p in train_tokens ])\n",
    "val_lm = np.array([ [stoi[o] for o in p] for p in valid_tokens ])\n"
   ]
  },
  {
   "cell_type": "code",
   "execution_count": 104,
   "metadata": {},
   "outputs": [
    {
     "name": "stderr",
     "output_type": "stream",
     "text": [
      "/home/kirana/anaconda3/lib/python3.7/site-packages/ipykernel_launcher.py:1: SettingWithCopyWarning: \n",
      "A value is trying to be set on a copy of a slice from a DataFrame.\n",
      "Try using .loc[row_indexer,col_indexer] = value instead\n",
      "\n",
      "See the caveats in the documentation: http://pandas.pydata.org/pandas-docs/stable/indexing.html#indexing-view-versus-copy\n",
      "  \"\"\"Entry point for launching an IPython kernel.\n",
      "/home/kirana/anaconda3/lib/python3.7/site-packages/ipykernel_launcher.py:2: SettingWithCopyWarning: \n",
      "A value is trying to be set on a copy of a slice from a DataFrame.\n",
      "Try using .loc[row_indexer,col_indexer] = value instead\n",
      "\n",
      "See the caveats in the documentation: http://pandas.pydata.org/pandas-docs/stable/indexing.html#indexing-view-versus-copy\n",
      "  \n"
     ]
    }
   ],
   "source": [
    "df_train['tokens']=trn_lm\n",
    "df_valid['tokens']=val_lm"
   ]
  },
  {
   "cell_type": "code",
   "execution_count": 105,
   "metadata": {},
   "outputs": [],
   "source": [
    "pickle.dump([df_train,df_valid,itos, train_tokens, valid_tokens, trn_lm, val_lm],open(f'{DATAPATH}/inter/dfs_tokens_fastai.pkl','wb'))"
   ]
  },
  {
   "cell_type": "code",
   "execution_count": 88,
   "metadata": {},
   "outputs": [],
   "source": [
    "[df_train,df_valid,itos, train_tokens, valid_tokens, trn_lm, val_lm]=pickle.load(open(f'{DATAPATH}/inter/dfs_tokens_fastai.pkl','rb'))"
   ]
  }
 ],
 "metadata": {
  "kernelspec": {
   "display_name": "Python 3",
   "language": "python",
   "name": "python3"
  },
  "language_info": {
   "codemirror_mode": {
    "name": "ipython",
    "version": 3
   },
   "file_extension": ".py",
   "mimetype": "text/x-python",
   "name": "python",
   "nbconvert_exporter": "python",
   "pygments_lexer": "ipython3",
   "version": "3.7.3"
  }
 },
 "nbformat": 4,
 "nbformat_minor": 2
}
