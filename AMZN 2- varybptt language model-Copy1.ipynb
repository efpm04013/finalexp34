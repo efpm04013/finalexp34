{
 "cells": [
  {
   "cell_type": "code",
   "execution_count": 1,
   "metadata": {},
   "outputs": [],
   "source": [
    "import pandas as pd\n",
    "import pickle\n",
    "import numpy as np\n",
    "import torch\n",
    "from torch import nn\n",
    "import os \n",
    "import fastai\n",
    "import fastai\n",
    "from fastai.text import *"
   ]
  },
  {
   "cell_type": "code",
   "execution_count": 2,
   "metadata": {},
   "outputs": [],
   "source": [
    "PATH=\"/home/kirana/Documents/phd\"\n",
    "DATAPATH=\"/home/kirana/Documents/phd/data/experiment/YELP_BINARY\""
   ]
  },
  {
   "cell_type": "markdown",
   "metadata": {},
   "source": [
    "## Dataset"
   ]
  },
  {
   "cell_type": "code",
   "execution_count": 3,
   "metadata": {},
   "outputs": [],
   "source": [
    "[df_train,df_valid,itos, train_tokens, valid_tokens, trn_lm, val_lm]=pickle.load(open(f'{DATAPATH}/inter/dfs_tokens_fastai.pkl','rb'))"
   ]
  },
  {
   "cell_type": "code",
   "execution_count": 4,
   "metadata": {},
   "outputs": [],
   "source": [
    "bs=52 # 52 - Jeremey, 20 - default"
   ]
  },
  {
   "cell_type": "code",
   "execution_count": 5,
   "metadata": {},
   "outputs": [],
   "source": [
    "bptt= 70 #70 - Jeremey, 35 - default"
   ]
  },
  {
   "cell_type": "code",
   "execution_count": 6,
   "metadata": {},
   "outputs": [],
   "source": [
    "def create_data_lm(tokens,bs):\n",
    "    import itertools\n",
    "    # Collapse into a single large array\n",
    "    tokens=np.asarray(list (itertools.chain(*tokens)))\n",
    "    # How many batches\n",
    "    n_batch=len(tokens)//bs\n",
    "    # Truncate to exclude the ones at the end\n",
    "    tokens=tokens[:bs*n_batch]\n",
    "    # Reshape\n",
    "    tokens=tokens.reshape(bs,-1)\n",
    "    return tokens"
   ]
  },
  {
   "cell_type": "code",
   "execution_count": 7,
   "metadata": {},
   "outputs": [
    {
     "data": {
      "text/plain": [
       "((52, 1800936), (52, 200476))"
      ]
     },
     "execution_count": 7,
     "metadata": {},
     "output_type": "execute_result"
    }
   ],
   "source": [
    "train_tokens=create_data_lm(df_train['tokens'],bs)\n",
    "valid_tokens=create_data_lm(df_valid['tokens'],bs)\n",
    "train_tokens.shape, valid_tokens.shape"
   ]
  },
  {
   "cell_type": "code",
   "execution_count": 8,
   "metadata": {},
   "outputs": [],
   "source": [
    "def get_batch(source, i):\n",
    "    seq_len = min(args.bptt, len(source) - 1 - i)\n",
    "    data = source[i:i+seq_len]\n",
    "    target = source[i+1:i+1+seq_len].view(-1)\n",
    "    return data, target"
   ]
  },
  {
   "cell_type": "code",
   "execution_count": 9,
   "metadata": {},
   "outputs": [
    {
     "name": "stdout",
     "output_type": "stream",
     "text": [
      "(52, 70) (52, 70)\n"
     ]
    }
   ],
   "source": [
    "n_batch=train_tokens.shape[1]\n",
    "for i in range(0,n_batch,bptt):\n",
    "    seq_len=min(bptt,n_batch-1-i)\n",
    "    x=train_tokens[:,i:i+seq_len]\n",
    "    y=train_tokens[:,i+1:i+1+seq_len]\n",
    "    print (x.shape, y.shape)\n",
    "    break"
   ]
  },
  {
   "cell_type": "code",
   "execution_count": 10,
   "metadata": {},
   "outputs": [
    {
     "data": {
      "text/plain": [
       "((52, 70), (52, 70))"
      ]
     },
     "execution_count": 10,
     "metadata": {},
     "output_type": "execute_result"
    }
   ],
   "source": [
    "x.shape,y.shape"
   ]
  },
  {
   "cell_type": "code",
   "execution_count": 11,
   "metadata": {},
   "outputs": [
    {
     "data": {
      "text/plain": [
       "(array([[   28,    29,    30,    25, ...,  9773,   121,    69,    61],\n",
       "        [  757,    66,    21,  6341, ...,    66,    20,   313,   463],\n",
       "        [ 2479,     3,     2,    61, ...,     6,    53,    61,   110],\n",
       "        [   25,     2,   118,    43, ...,  9869,    71,     4, 11139],\n",
       "        ...,\n",
       "        [    6,  2210,   298,    84, ...,    95,  1150,     4,  2319],\n",
       "        [ 1710,    16,  1117,    18, ...,     5,   277,  6993,   388],\n",
       "        [ 2341,  3605,    87,    10, ...,     3,     2,    58,   255],\n",
       "        [  130,   664,     3,     2, ...,   100,    62,     9,   176]]),\n",
       " array([[   29,    30,    25,     2, ...,   121,    69,    61,   182],\n",
       "        [   66,    21,  6341,  3468, ...,    20,   313,   463,   159],\n",
       "        [    3,     2,    61,    21, ...,    53,    61,   110,    32],\n",
       "        [    2,   118,    43,  1228, ...,    71,     4, 11139,     6],\n",
       "        ...,\n",
       "        [ 2210,   298,    84, 13959, ...,  1150,     4,  2319,   520],\n",
       "        [   16,  1117,    18,    28, ...,   277,  6993,   388,     6],\n",
       "        [ 3605,    87,    10,   990, ...,     2,    58,   255,    65],\n",
       "        [  664,     3,     2,   131, ...,    62,     9,   176,    97]]))"
      ]
     },
     "execution_count": 11,
     "metadata": {},
     "output_type": "execute_result"
    }
   ],
   "source": [
    "x,y"
   ]
  },
  {
   "cell_type": "code",
   "execution_count": 12,
   "metadata": {},
   "outputs": [
    {
     "data": {
      "text/plain": [
       "((52, 70), (52, 70))"
      ]
     },
     "execution_count": 12,
     "metadata": {},
     "output_type": "execute_result"
    }
   ],
   "source": [
    "x.shape,y.shape"
   ]
  },
  {
   "cell_type": "code",
   "execution_count": 13,
   "metadata": {},
   "outputs": [
    {
     "data": {
      "text/plain": [
       "(52, 1800936)"
      ]
     },
     "execution_count": 13,
     "metadata": {},
     "output_type": "execute_result"
    }
   ],
   "source": [
    "train_tokens.shape"
   ]
  },
  {
   "cell_type": "markdown",
   "metadata": {},
   "source": [
    "## pre-trained AWD-LSTM"
   ]
  },
  {
   "cell_type": "code",
   "execution_count": 14,
   "metadata": {},
   "outputs": [],
   "source": [
    "PATH_AWD_LSTM='/home/kirana/Documents/phd/data/pre-trained/awd_lstm/'"
   ]
  },
  {
   "cell_type": "code",
   "execution_count": 15,
   "metadata": {},
   "outputs": [
    {
     "name": "stdout",
     "output_type": "stream",
     "text": [
      "bwd_wt103_enc.h5  fwd_wt103_enc.h5  itos_wt103.pkl  \u001b[0m\u001b[01;34mwt103_60002\u001b[0m/\r\n",
      "bwd_wt103.h5      fwd_wt103.h5      \u001b[01;34mwt103_238642\u001b[0m/   \u001b[01;31mwt103_tiny.tgz\u001b[0m\r\n"
     ]
    }
   ],
   "source": [
    "ls {PATH_AWD_LSTM}"
   ]
  },
  {
   "cell_type": "code",
   "execution_count": 16,
   "metadata": {},
   "outputs": [],
   "source": [
    "wgts = torch.load(f'{PATH_AWD_LSTM}/fwd_wt103.h5', map_location=lambda storage, loc: storage)"
   ]
  },
  {
   "cell_type": "code",
   "execution_count": 17,
   "metadata": {},
   "outputs": [
    {
     "data": {
      "text/plain": [
       "OrderedDict([('0.encoder.weight',\n",
       "              tensor([[-1.2274e-01,  2.7886e-01, -3.8850e-01,  ..., -1.0404e-01,\n",
       "                        1.9580e-02,  1.8548e-01],\n",
       "                      [ 1.4854e-05, -2.3424e-05,  1.9693e-05,  ...,  2.1349e-05,\n",
       "                        2.1776e-05, -1.2394e-05],\n",
       "                      [ 1.8070e-01,  1.5874e+00, -1.1738e-01,  ..., -4.5935e-02,\n",
       "                       -8.1352e-02,  1.8054e-01],\n",
       "                      ...,\n",
       "                      [-1.8595e-03, -6.8529e-03,  1.6999e-03,  ...,  1.7039e-03,\n",
       "                        4.1632e-03, -1.3171e-03],\n",
       "                      [-2.3120e-03, -6.9001e-03,  1.8772e-03,  ...,  5.0309e-04,\n",
       "                        4.6596e-03, -2.5850e-03],\n",
       "                      [-2.2463e-03, -9.1512e-03,  1.3927e-03,  ...,  1.2296e-03,\n",
       "                        5.8085e-03, -1.8940e-03]])),\n",
       "             ('0.encoder_with_dropout.embed.weight',\n",
       "              tensor([[-1.2274e-01,  2.7886e-01, -3.8850e-01,  ..., -1.0404e-01,\n",
       "                        1.9580e-02,  1.8548e-01],\n",
       "                      [ 1.4854e-05, -2.3424e-05,  1.9693e-05,  ...,  2.1349e-05,\n",
       "                        2.1776e-05, -1.2394e-05],\n",
       "                      [ 1.8070e-01,  1.5874e+00, -1.1738e-01,  ..., -4.5935e-02,\n",
       "                       -8.1352e-02,  1.8054e-01],\n",
       "                      ...,\n",
       "                      [-1.8595e-03, -6.8529e-03,  1.6999e-03,  ...,  1.7039e-03,\n",
       "                        4.1632e-03, -1.3171e-03],\n",
       "                      [-2.3120e-03, -6.9001e-03,  1.8772e-03,  ...,  5.0309e-04,\n",
       "                        4.6596e-03, -2.5850e-03],\n",
       "                      [-2.2463e-03, -9.1512e-03,  1.3927e-03,  ...,  1.2296e-03,\n",
       "                        5.8085e-03, -1.8940e-03]])),\n",
       "             ('0.rnns.0.module.weight_ih_l0',\n",
       "              tensor([[-0.0812, -0.0811, -0.0937,  ..., -0.0259, -0.1403, -0.3247],\n",
       "                      [ 0.1154,  0.1142,  0.0938,  ..., -0.0711,  0.1669, -0.0387],\n",
       "                      [-0.0051,  0.1007,  0.2071,  ..., -0.0860, -0.0288, -0.0894],\n",
       "                      ...,\n",
       "                      [ 0.0055,  0.0157,  0.2990,  ...,  0.0616,  0.1159, -0.4737],\n",
       "                      [ 0.0181,  0.0426,  0.1130,  ...,  0.3529, -0.0114, -0.0125],\n",
       "                      [-0.0167, -0.1328,  0.1741,  ...,  0.0548, -0.0045,  0.1688]])),\n",
       "             ('0.rnns.0.module.bias_ih_l0',\n",
       "              tensor([ 0.1503, -0.4701, -0.1885,  ..., -0.5919, -0.2172, -0.1207])),\n",
       "             ('0.rnns.0.module.bias_hh_l0',\n",
       "              tensor([ 0.1503, -0.4701, -0.1885,  ..., -0.5919, -0.2172, -0.1207])),\n",
       "             ('0.rnns.0.module.weight_hh_l0_raw',\n",
       "              tensor([[-0.1013,  0.1786, -0.0528,  ...,  0.0741,  0.0306,  0.2467],\n",
       "                      [ 0.1780, -0.0853, -0.0243,  ..., -0.1129, -0.1310, -0.1498],\n",
       "                      [ 0.0661, -0.0496,  0.0921,  ...,  0.1829,  0.0533, -0.1525],\n",
       "                      ...,\n",
       "                      [-0.0322, -0.0704,  0.1653,  ...,  0.2142, -0.0558,  0.0315],\n",
       "                      [-0.1651, -0.0290,  0.1748,  ..., -0.0446,  0.5444,  0.0616],\n",
       "                      [ 0.0905, -0.1704, -0.0053,  ..., -0.0057,  0.2269,  0.0328]])),\n",
       "             ('0.rnns.1.module.weight_ih_l0',\n",
       "              tensor([[ 0.3307,  0.0385,  0.0860,  ...,  0.0685, -0.0444,  0.0539],\n",
       "                      [ 0.0720,  0.1607,  0.0562,  ...,  0.0276,  0.0613,  0.1632],\n",
       "                      [-0.1565, -0.1168,  0.1897,  ..., -0.0357,  0.0296,  0.0961],\n",
       "                      ...,\n",
       "                      [-0.0897, -0.1464, -0.0760,  ...,  0.0536,  0.0422, -0.0580],\n",
       "                      [ 0.1166, -0.1534, -0.1784,  ..., -0.0689,  0.2170,  0.1461],\n",
       "                      [-0.0413,  0.0689,  0.0581,  ..., -0.0640, -0.1703, -0.0945]])),\n",
       "             ('0.rnns.1.module.bias_ih_l0',\n",
       "              tensor([-0.8577, -0.6784, -0.7249,  ..., -0.6782,  0.0567, -0.5026])),\n",
       "             ('0.rnns.1.module.bias_hh_l0',\n",
       "              tensor([-0.8577, -0.6784, -0.7249,  ..., -0.6782,  0.0567, -0.5026])),\n",
       "             ('0.rnns.1.module.weight_hh_l0_raw',\n",
       "              tensor([[-0.0273, -0.2277,  0.0782,  ...,  0.1355, -0.1282,  0.1669],\n",
       "                      [ 0.1218,  0.0017, -0.0998,  ..., -0.2085, -0.0686, -0.1389],\n",
       "                      [-0.3878, -0.0498, -0.1748,  ..., -0.4014,  0.1986, -0.4400],\n",
       "                      ...,\n",
       "                      [-0.2097, -0.4298,  0.3551,  ...,  0.0316, -0.1198,  0.1266],\n",
       "                      [ 0.0037, -0.0223,  0.0032,  ..., -0.2672, -0.3093, -0.0361],\n",
       "                      [-0.0464,  0.1664, -0.1348,  ...,  0.1600, -0.1138,  0.0845]])),\n",
       "             ('0.rnns.2.module.weight_ih_l0',\n",
       "              tensor([[-0.0741,  0.0447, -0.0744,  ..., -0.0419,  0.1600, -0.0553],\n",
       "                      [ 0.0270,  0.0118,  0.0449,  ...,  0.1165, -0.1080, -0.0681],\n",
       "                      [-0.1023, -0.1662, -0.0229,  ...,  0.1652, -0.1070,  0.0970],\n",
       "                      ...,\n",
       "                      [-0.0989, -0.4425, -0.0343,  ..., -0.1434,  0.5851, -0.0291],\n",
       "                      [ 0.0802, -0.1067,  0.2789,  ..., -0.0916, -0.2240,  0.1020],\n",
       "                      [-0.4078,  0.7220,  0.1142,  ...,  0.5287,  0.2035, -0.1811]])),\n",
       "             ('0.rnns.2.module.bias_ih_l0',\n",
       "              tensor([-0.3681, -0.9079, -0.1998,  ...,  0.8533,  0.3202,  1.2172])),\n",
       "             ('0.rnns.2.module.bias_hh_l0',\n",
       "              tensor([-0.3681, -0.9079, -0.1998,  ...,  0.8533,  0.3202,  1.2172])),\n",
       "             ('0.rnns.2.module.weight_hh_l0_raw',\n",
       "              tensor([[-0.0966,  0.0236, -0.0152,  ...,  0.0388, -0.0531, -0.0395],\n",
       "                      [-0.0328, -0.2217,  0.0028,  ...,  0.0143, -0.0368, -0.0085],\n",
       "                      [ 0.0167, -0.0081, -0.0561,  ...,  0.0125,  0.0442, -0.0139],\n",
       "                      ...,\n",
       "                      [-0.0212, -0.1034, -0.0106,  ..., -0.0561,  0.0200, -0.0157],\n",
       "                      [ 0.0183,  0.0364, -0.0251,  ..., -0.0240, -0.1150,  0.0046],\n",
       "                      [ 0.0100, -0.1824,  0.1076,  ..., -0.0269,  0.2733,  0.1846]])),\n",
       "             ('1.decoder.weight',\n",
       "              tensor([[-1.2274e-01,  2.7886e-01, -3.8850e-01,  ..., -1.0404e-01,\n",
       "                        1.9580e-02,  1.8548e-01],\n",
       "                      [ 1.4854e-05, -2.3424e-05,  1.9693e-05,  ...,  2.1349e-05,\n",
       "                        2.1776e-05, -1.2394e-05],\n",
       "                      [ 1.8070e-01,  1.5874e+00, -1.1738e-01,  ..., -4.5935e-02,\n",
       "                       -8.1352e-02,  1.8054e-01],\n",
       "                      ...,\n",
       "                      [-1.8595e-03, -6.8529e-03,  1.6999e-03,  ...,  1.7039e-03,\n",
       "                        4.1632e-03, -1.3171e-03],\n",
       "                      [-2.3120e-03, -6.9001e-03,  1.8772e-03,  ...,  5.0309e-04,\n",
       "                        4.6596e-03, -2.5850e-03],\n",
       "                      [-2.2463e-03, -9.1512e-03,  1.3927e-03,  ...,  1.2296e-03,\n",
       "                        5.8085e-03, -1.8940e-03]]))])"
      ]
     },
     "execution_count": 17,
     "metadata": {},
     "output_type": "execute_result"
    }
   ],
   "source": [
    "wgts"
   ]
  },
  {
   "cell_type": "code",
   "execution_count": 18,
   "metadata": {},
   "outputs": [],
   "source": [
    "wgts = torch.load(f'{PATH_AWD_LSTM}/fwd_wt103_enc.h5', map_location=lambda storage, loc: storage)"
   ]
  },
  {
   "cell_type": "code",
   "execution_count": 19,
   "metadata": {},
   "outputs": [
    {
     "data": {
      "text/plain": [
       "OrderedDict([('encoder.weight',\n",
       "              tensor([[-1.2274e-01,  2.7886e-01, -3.8850e-01,  ..., -1.0404e-01,\n",
       "                        1.9580e-02,  1.8548e-01],\n",
       "                      [ 1.4854e-05, -2.3424e-05,  1.9693e-05,  ...,  2.1349e-05,\n",
       "                        2.1776e-05, -1.2394e-05],\n",
       "                      [ 1.8070e-01,  1.5874e+00, -1.1738e-01,  ..., -4.5935e-02,\n",
       "                       -8.1352e-02,  1.8054e-01],\n",
       "                      ...,\n",
       "                      [-1.8595e-03, -6.8529e-03,  1.6999e-03,  ...,  1.7039e-03,\n",
       "                        4.1632e-03, -1.3171e-03],\n",
       "                      [-2.3120e-03, -6.9001e-03,  1.8772e-03,  ...,  5.0309e-04,\n",
       "                        4.6596e-03, -2.5850e-03],\n",
       "                      [-2.2463e-03, -9.1512e-03,  1.3927e-03,  ...,  1.2296e-03,\n",
       "                        5.8085e-03, -1.8940e-03]])),\n",
       "             ('encoder_with_dropout.embed.weight',\n",
       "              tensor([[-1.2274e-01,  2.7886e-01, -3.8850e-01,  ..., -1.0404e-01,\n",
       "                        1.9580e-02,  1.8548e-01],\n",
       "                      [ 1.4854e-05, -2.3424e-05,  1.9693e-05,  ...,  2.1349e-05,\n",
       "                        2.1776e-05, -1.2394e-05],\n",
       "                      [ 1.8070e-01,  1.5874e+00, -1.1738e-01,  ..., -4.5935e-02,\n",
       "                       -8.1352e-02,  1.8054e-01],\n",
       "                      ...,\n",
       "                      [-1.8595e-03, -6.8529e-03,  1.6999e-03,  ...,  1.7039e-03,\n",
       "                        4.1632e-03, -1.3171e-03],\n",
       "                      [-2.3120e-03, -6.9001e-03,  1.8772e-03,  ...,  5.0309e-04,\n",
       "                        4.6596e-03, -2.5850e-03],\n",
       "                      [-2.2463e-03, -9.1512e-03,  1.3927e-03,  ...,  1.2296e-03,\n",
       "                        5.8085e-03, -1.8940e-03]])),\n",
       "             ('rnns.0.module.weight_ih_l0',\n",
       "              tensor([[-0.0812, -0.0811, -0.0937,  ..., -0.0259, -0.1403, -0.3247],\n",
       "                      [ 0.1154,  0.1142,  0.0938,  ..., -0.0711,  0.1669, -0.0387],\n",
       "                      [-0.0051,  0.1007,  0.2071,  ..., -0.0860, -0.0288, -0.0894],\n",
       "                      ...,\n",
       "                      [ 0.0055,  0.0157,  0.2990,  ...,  0.0616,  0.1159, -0.4737],\n",
       "                      [ 0.0181,  0.0426,  0.1130,  ...,  0.3529, -0.0114, -0.0125],\n",
       "                      [-0.0167, -0.1328,  0.1741,  ...,  0.0548, -0.0045,  0.1688]])),\n",
       "             ('rnns.0.module.bias_ih_l0',\n",
       "              tensor([ 0.1503, -0.4701, -0.1885,  ..., -0.5919, -0.2172, -0.1207])),\n",
       "             ('rnns.0.module.bias_hh_l0',\n",
       "              tensor([ 0.1503, -0.4701, -0.1885,  ..., -0.5919, -0.2172, -0.1207])),\n",
       "             ('rnns.0.module.weight_hh_l0_raw',\n",
       "              tensor([[-0.1013,  0.1786, -0.0528,  ...,  0.0741,  0.0306,  0.2467],\n",
       "                      [ 0.1780, -0.0853, -0.0243,  ..., -0.1129, -0.1310, -0.1498],\n",
       "                      [ 0.0661, -0.0496,  0.0921,  ...,  0.1829,  0.0533, -0.1525],\n",
       "                      ...,\n",
       "                      [-0.0322, -0.0704,  0.1653,  ...,  0.2142, -0.0558,  0.0315],\n",
       "                      [-0.1651, -0.0290,  0.1748,  ..., -0.0446,  0.5444,  0.0616],\n",
       "                      [ 0.0905, -0.1704, -0.0053,  ..., -0.0057,  0.2269,  0.0328]])),\n",
       "             ('rnns.1.module.weight_ih_l0',\n",
       "              tensor([[ 0.3307,  0.0385,  0.0860,  ...,  0.0685, -0.0444,  0.0539],\n",
       "                      [ 0.0720,  0.1607,  0.0562,  ...,  0.0276,  0.0613,  0.1632],\n",
       "                      [-0.1565, -0.1168,  0.1897,  ..., -0.0357,  0.0296,  0.0961],\n",
       "                      ...,\n",
       "                      [-0.0897, -0.1464, -0.0760,  ...,  0.0536,  0.0422, -0.0580],\n",
       "                      [ 0.1166, -0.1534, -0.1784,  ..., -0.0689,  0.2170,  0.1461],\n",
       "                      [-0.0413,  0.0689,  0.0581,  ..., -0.0640, -0.1703, -0.0945]])),\n",
       "             ('rnns.1.module.bias_ih_l0',\n",
       "              tensor([-0.8577, -0.6784, -0.7249,  ..., -0.6782,  0.0567, -0.5026])),\n",
       "             ('rnns.1.module.bias_hh_l0',\n",
       "              tensor([-0.8577, -0.6784, -0.7249,  ..., -0.6782,  0.0567, -0.5026])),\n",
       "             ('rnns.1.module.weight_hh_l0_raw',\n",
       "              tensor([[-0.0273, -0.2277,  0.0782,  ...,  0.1355, -0.1282,  0.1669],\n",
       "                      [ 0.1218,  0.0017, -0.0998,  ..., -0.2085, -0.0686, -0.1389],\n",
       "                      [-0.3878, -0.0498, -0.1748,  ..., -0.4014,  0.1986, -0.4400],\n",
       "                      ...,\n",
       "                      [-0.2097, -0.4298,  0.3551,  ...,  0.0316, -0.1198,  0.1266],\n",
       "                      [ 0.0037, -0.0223,  0.0032,  ..., -0.2672, -0.3093, -0.0361],\n",
       "                      [-0.0464,  0.1664, -0.1348,  ...,  0.1600, -0.1138,  0.0845]])),\n",
       "             ('rnns.2.module.weight_ih_l0',\n",
       "              tensor([[-0.0741,  0.0447, -0.0744,  ..., -0.0419,  0.1600, -0.0553],\n",
       "                      [ 0.0270,  0.0118,  0.0449,  ...,  0.1165, -0.1080, -0.0681],\n",
       "                      [-0.1023, -0.1662, -0.0229,  ...,  0.1652, -0.1070,  0.0970],\n",
       "                      ...,\n",
       "                      [-0.0989, -0.4425, -0.0343,  ..., -0.1434,  0.5851, -0.0291],\n",
       "                      [ 0.0802, -0.1067,  0.2789,  ..., -0.0916, -0.2240,  0.1020],\n",
       "                      [-0.4078,  0.7220,  0.1142,  ...,  0.5287,  0.2035, -0.1811]])),\n",
       "             ('rnns.2.module.bias_ih_l0',\n",
       "              tensor([-0.3681, -0.9079, -0.1998,  ...,  0.8533,  0.3202,  1.2172])),\n",
       "             ('rnns.2.module.bias_hh_l0',\n",
       "              tensor([-0.3681, -0.9079, -0.1998,  ...,  0.8533,  0.3202,  1.2172])),\n",
       "             ('rnns.2.module.weight_hh_l0_raw',\n",
       "              tensor([[-0.0966,  0.0236, -0.0152,  ...,  0.0388, -0.0531, -0.0395],\n",
       "                      [-0.0328, -0.2217,  0.0028,  ...,  0.0143, -0.0368, -0.0085],\n",
       "                      [ 0.0167, -0.0081, -0.0561,  ...,  0.0125,  0.0442, -0.0139],\n",
       "                      ...,\n",
       "                      [-0.0212, -0.1034, -0.0106,  ..., -0.0561,  0.0200, -0.0157],\n",
       "                      [ 0.0183,  0.0364, -0.0251,  ..., -0.0240, -0.1150,  0.0046],\n",
       "                      [ 0.0100, -0.1824,  0.1076,  ..., -0.0269,  0.2733,  0.1846]]))])"
      ]
     },
     "execution_count": 19,
     "metadata": {},
     "output_type": "execute_result"
    }
   ],
   "source": [
    "wgts"
   ]
  },
  {
   "cell_type": "code",
   "execution_count": 20,
   "metadata": {},
   "outputs": [],
   "source": [
    "itos2=pickle.load(open(f'{PATH_AWD_LSTM}/itos_wt103.pkl','rb'))\n",
    "stoi2 = collections.defaultdict(lambda: -1, { v: k for k, v in enumerate(itos2) })"
   ]
  },
  {
   "cell_type": "code",
   "execution_count": 21,
   "metadata": {},
   "outputs": [
    {
     "data": {
      "text/plain": [
       "torch.Size([238462, 400])"
      ]
     },
     "execution_count": 21,
     "metadata": {},
     "output_type": "execute_result"
    }
   ],
   "source": [
    "wgts['encoder.weight'].shape"
   ]
  },
  {
   "cell_type": "code",
   "execution_count": 22,
   "metadata": {},
   "outputs": [],
   "source": [
    "enc_wgts = wgts['encoder.weight'].numpy() # converts np.ndarray from torch.FloatTensor.output shape: (238462, 400)\n",
    "row_m = enc_wgts.mean(0) # returns the average of the array elements along axis 0. output shape: (400,)"
   ]
  },
  {
   "cell_type": "code",
   "execution_count": 23,
   "metadata": {},
   "outputs": [
    {
     "data": {
      "text/plain": [
       "((238462, 400), 60002)"
      ]
     },
     "execution_count": 23,
     "metadata": {},
     "output_type": "execute_result"
    }
   ],
   "source": [
    "enc_wgts.shape, len(itos)"
   ]
  },
  {
   "cell_type": "code",
   "execution_count": 24,
   "metadata": {},
   "outputs": [],
   "source": [
    "n_emb=enc_wgts.shape[1]"
   ]
  },
  {
   "cell_type": "code",
   "execution_count": 25,
   "metadata": {},
   "outputs": [],
   "source": [
    "new_w = np.zeros((len(itos),n_emb), dtype=np.float32) # shape: (60002, 400)\n",
    "\n",
    "for i, w in enumerate(itos):\n",
    "    r = stoi2[w]\n",
    "    new_w[i] = enc_wgts[r] if r >= 0 else row_m"
   ]
  },
  {
   "cell_type": "code",
   "execution_count": 26,
   "metadata": {},
   "outputs": [
    {
     "data": {
      "text/plain": [
       "17836"
      ]
     },
     "execution_count": 26,
     "metadata": {},
     "output_type": "execute_result"
    }
   ],
   "source": [
    "len(set(itos).difference(set(itos2)))"
   ]
  },
  {
   "cell_type": "markdown",
   "metadata": {},
   "source": [
    "## Model Architecture"
   ]
  },
  {
   "cell_type": "code",
   "execution_count": 27,
   "metadata": {},
   "outputs": [],
   "source": [
    "from torch import nn\n",
    "import torch\n",
    "from torch.autograd import Variable"
   ]
  },
  {
   "cell_type": "code",
   "execution_count": 28,
   "metadata": {},
   "outputs": [],
   "source": [
    "n_inp=len(itos)\n",
    "n_emb=400 #650\n",
    "n_hidden=400 #650\n",
    "n_layers=2\n",
    "dropout=0.5\n",
    "wd=1e-7"
   ]
  },
  {
   "cell_type": "code",
   "execution_count": 29,
   "metadata": {},
   "outputs": [],
   "source": [
    "class language_model (nn.Module):\n",
    "    def __init__(self,n_inp,n_emb,n_hidden,n_layers,bidirectional,bs,device,dropout_e=0.05,dropout=0.5,\\\n",
    "                 dropout_o=0.5,pretrain_mtx=None,adaptive_log_softmax=True,tie_weights=True):\n",
    "        super().__init__()\n",
    "        self.n_inp,self.n_emb,self.n_hidden,self.n_layers,self.bidirectional,self.bs,self.device,self.pretrain_mtx=\\\n",
    "                            n_inp,n_emb,n_hidden,n_layers,bidirectional,bs,device,pretrain_mtx\n",
    "        self.adaptive_log_softmax,self.tie_weights=adaptive_log_softmax,tie_weights\n",
    "        self.dropout_e,self.dropout,self.dropout_o=dropout_e,dropout,dropout_o\n",
    "        self.gen_hidden()\n",
    "        self.create_architecture()\n",
    "        if pretrain_mtx is not None:\n",
    "            print (\"initializing\")\n",
    "            self.initialize_glove()\n",
    "            \n",
    "        if self.adaptive_log_softmax is False:\n",
    "            self.criterion=nn.CrossEntropyLoss()\n",
    "        \n",
    "    def create_architecture(self):\n",
    "        # Dropout layer\n",
    "        self.dropout_enc=nn.Dropout(self.dropout_e)\n",
    "        # Embedding Layer\n",
    "        self.encoder=nn.Embedding(self.n_inp,self.n_emb)\n",
    "        # LSTM Layer\n",
    "        self.lstm=nn.LSTM(self.n_emb,self.n_hidden,self.n_layers,batch_first=True,dropout=self.dropout,\\\n",
    "                          bidirectional=False)\n",
    "        self.dropout_op=nn.Dropout(self.dropout_o)\n",
    "        \n",
    "        if self.adaptive_log_softmax:\n",
    "            # Adaptive Log Softmax Loss\n",
    "            self.adaptive_softmax=AdaptiveLogSoftmaxWithLoss(self.n_hidden,\n",
    "                                    self.n_inp,\n",
    "                                    cutoffs=[round(self.n_inp/15),3*round(self.n_inp/15)],\n",
    "                                    div_value=4,\n",
    "                                    get_full_prob=True)\n",
    "        else:\n",
    "            self.decoder=nn.Linear(self.n_hidden,self.n_inp)\n",
    "    \n",
    "    def freeze_embedding(self):\n",
    "        self.encoder.weight.requires_grad=False\n",
    "        if self.tie_weights:\n",
    "            self.decoder.weight.requires_grad=False\n",
    "        \n",
    "    \n",
    "    def unfreeze_embedding(self):\n",
    "        self.encoder.weight.requires_grad=True\n",
    "        if self.tie_weights:\n",
    "            self.decoder.weight.requires_grad=True\n",
    "        \n",
    "    def initialize_glove(self):\n",
    "        self.encoder.weight.data=torch.Tensor(self.pretrain_mtx)\n",
    "        if self.tie_weights:\n",
    "            self.decoder.weight=self.encoder.weight\n",
    "    \n",
    "    def gen_hidden(self):\n",
    "        # Initialize hidden\n",
    "        self.hidden=(Variable(torch.zeros(self.n_layers,self.bs,self.n_hidden,requires_grad=False).to(self.device)),\n",
    "                     Variable(torch.zeros(self.n_layers,self.bs,self.n_hidden,requires_grad=False).to(self.device)))\n",
    "    \n",
    "        \n",
    "    def forward(self,Xb,Yb):\n",
    "        #import pdb\n",
    "        #pdb.set_trace()\n",
    "        embs=self.dropout_enc(self.encoder(Xb))\n",
    "        if Xb.size(0) < self.bs:\n",
    "            self.hidden=(self.hidden[0][:,:Xb.size(0),:].contiguous(),\n",
    "            self.hidden[1][:,:Xb.size(0),:].contiguous())\n",
    "        out,new_hidden=self.lstm(embs,self.hidden)\n",
    "        out=self.dropout_op(out)\n",
    "         # Wrap the hidden state in a new tensor without the gradients\n",
    "        self.hidden=(Variable(new_hidden[0].data,requires_grad=False).to(self.device),\\\n",
    "                     Variable(new_hidden[1].data,requires_grad=False).to(self.device))\n",
    "        if self.adaptive_log_softmax:\n",
    "            out=out.reshape(out.size(0)*out.size(1),out.size(2))        # output is of shape n_batch * n_seq * n_hidden\n",
    "      \n",
    "            out=self.adaptive_softmax(out,Yb.view(-1))\n",
    "            loss=out.loss\n",
    "            preds=out.output_full\n",
    "        else:\n",
    "            #import pdb\n",
    "            #pdb.set_trace()\n",
    "            preds=self.decoder(out.contiguous().view(out.size(0)*out.size(1), out.size(2)))\n",
    "            loss=self.criterion(preds,Yb.contiguous().view(-1))\n",
    "\n",
    "        return preds, loss  "
   ]
  },
  {
   "cell_type": "code",
   "execution_count": 30,
   "metadata": {},
   "outputs": [],
   "source": [
    "def accuracy_multinomial(preds,actual):\n",
    "    preds=preds.max(1)[1]\n",
    "    correct=preds==actual\n",
    "    return correct.float().sum()/len(correct)"
   ]
  },
  {
   "cell_type": "code",
   "execution_count": 31,
   "metadata": {},
   "outputs": [
    {
     "name": "stdout",
     "output_type": "stream",
     "text": [
      "initializing\n"
     ]
    }
   ],
   "source": [
    "device=\"cuda:1\"\n",
    "model=language_model(n_inp,n_emb,n_hidden,n_layers,False,bs,device,0.05,0.5,0.5,new_w,False,True)\n"
   ]
  },
  {
   "cell_type": "code",
   "execution_count": 32,
   "metadata": {},
   "outputs": [
    {
     "data": {
      "text/plain": [
       "(60002, 400)"
      ]
     },
     "execution_count": 32,
     "metadata": {},
     "output_type": "execute_result"
    }
   ],
   "source": [
    "new_w.shape"
   ]
  },
  {
   "cell_type": "code",
   "execution_count": 33,
   "metadata": {},
   "outputs": [
    {
     "data": {
      "text/plain": [
       "(torch.Size([60002, 400]), torch.Size([60002, 400]))"
      ]
     },
     "execution_count": 33,
     "metadata": {},
     "output_type": "execute_result"
    }
   ],
   "source": [
    "model.encoder.weight.data.shape,model.decoder.weight.data.shape"
   ]
  },
  {
   "cell_type": "code",
   "execution_count": 34,
   "metadata": {},
   "outputs": [
    {
     "data": {
      "text/plain": [
       "(torch.Size([60002, 400]), 400, 60002)"
      ]
     },
     "execution_count": 34,
     "metadata": {},
     "output_type": "execute_result"
    }
   ],
   "source": [
    "nn.Linear(n_hidden,n_inp).weight.data.shape, n_hidden, n_inp"
   ]
  },
  {
   "cell_type": "markdown",
   "metadata": {},
   "source": [
    "### Test if model forward works"
   ]
  },
  {
   "cell_type": "code",
   "execution_count": 35,
   "metadata": {},
   "outputs": [
    {
     "data": {
      "text/plain": [
       "(torch.Size([60002, 400]), torch.Size([60002, 400]))"
      ]
     },
     "execution_count": 35,
     "metadata": {},
     "output_type": "execute_result"
    }
   ],
   "source": [
    "model.decoder.weight.shape,model.encoder.weight.shape"
   ]
  },
  {
   "cell_type": "code",
   "execution_count": 36,
   "metadata": {},
   "outputs": [
    {
     "data": {
      "text/plain": [
       "(52, 70)"
      ]
     },
     "execution_count": 36,
     "metadata": {},
     "output_type": "execute_result"
    }
   ],
   "source": [
    "x.shape"
   ]
  },
  {
   "cell_type": "code",
   "execution_count": 37,
   "metadata": {},
   "outputs": [],
   "source": [
    "if 1==0:\n",
    "    model.forward(torch.LongTensor(x),torch.LongTensor(y))"
   ]
  },
  {
   "cell_type": "code",
   "execution_count": 38,
   "metadata": {},
   "outputs": [],
   "source": [
    "\n",
    "model=model.to(device)"
   ]
  },
  {
   "cell_type": "markdown",
   "metadata": {},
   "source": [
    "## Learner"
   ]
  },
  {
   "cell_type": "code",
   "execution_count": 39,
   "metadata": {},
   "outputs": [],
   "source": [
    "class Learner():\n",
    "    def __init__(self,model,optimizer,metric_fn,device,bptt=12,print_every=5,clip_val=None):\n",
    "        self.model,self.optimizer,self.metric_fn,self.device,self.print_every,self.bptt,self.losses,self.clip_val=\\\n",
    "            model,optimizer,metric_fn,device,print_every,bptt,[],clip_val\n",
    "        self.n_epochs=1\n",
    "\n",
    "    \n",
    "    def fit (self,Xb,Yb,mode_train=True):\n",
    "        if mode_train:\n",
    "            self.model.train()\n",
    "        else:\n",
    "            self.model.eval()\n",
    "            \n",
    "        preds,loss=self.model(Xb,Yb)\n",
    "        \n",
    "       \n",
    "            \n",
    "        \n",
    "        with torch.no_grad():\n",
    "            acc=self.metric_fn(preds,Yb.view(-1))\n",
    "            acc=acc.item()\n",
    "            del preds\n",
    "        \n",
    "        if mode_train:\n",
    "            self.optimizer.zero_grad()\n",
    "            loss.backward()\n",
    "            self.optimizer.step()\n",
    "        myloss=loss.item()\n",
    "        del loss\n",
    "        \n",
    "        if self.clip_val is not None:\n",
    "            torch.nn.utils.clip_grad_norm_(self.model.parameters(), 0.25)\n",
    "            if 1==0:\n",
    "                for p in self.model.parameters():\n",
    "                    p.data.add_(self.lr, p.grad.data)\n",
    "        \n",
    "        return myloss, acc\n",
    "    \n",
    "    def lr_find (self,start_lr,end_lr,iterator,n_batch):\n",
    "        losses,lrs=[],[]\n",
    "        ratio=end_lr/start_lr\n",
    "        num_steps=n_batch\n",
    "        lr=start_lr\n",
    "        for i in range(num_steps):            \n",
    "            lr=lr*(end_lr/start_lr)**(1/num_steps)\n",
    "            lrs.append(lr)\n",
    "        self.lrs=lrs\n",
    "        self.run_epoch(iterator,mode_train=True,lrs=lrs)\n",
    "    \n",
    "    def run_epoch(self,iterator,mode_train,lrs=None):\n",
    "        n_batch=iterator.shape[1]\n",
    "        epoch_loss,epoch_acc,i,k=0,0,0,0\n",
    "        self.model.gen_hidden()\n",
    "        #for k,i in enumerate(range(0,n_batch,self.bptt)):\n",
    "        n_batch=iterator.shape[1]\n",
    "        while i<n_batch-bptt:\n",
    "            if mode_train:\n",
    "                cust_bptt=self.bptt if np.random.random() < 0.95 else self.bptt//np.random.randint (2,4)\n",
    "            else:\n",
    "                cust_bptt=bptt\n",
    "            seq_len=min(cust_bptt,n_batch-1-i)\n",
    "            Xb=train_tokens[:,i:i+seq_len]\n",
    "            Yb=train_tokens[:,i+1:i+1+seq_len]\n",
    "            Xb=torch.LongTensor(Xb)\n",
    "            Yb=torch.LongTensor(Yb)\n",
    "            Xb=Xb.to(self.device)\n",
    "            Yb=Yb.to(self.device)\n",
    "            \n",
    "            if lrs is not None:\n",
    "                lr=lrs[k]\n",
    "                for param_group in self.optimizer.param_groups:\n",
    "                    param_group['lr']=lr \n",
    "            \n",
    "\n",
    "            loss,acc=self.fit(Xb,Yb,mode_train)\n",
    "            \n",
    "            if lrs is not None:\n",
    "                self.losses.append(loss)\n",
    "            \n",
    "            \n",
    "            epoch_loss+=loss\n",
    "            epoch_acc+=acc\n",
    "            if k%self.print_every == 0:\n",
    "                if k:\n",
    "                    print (f'Batch:{k} {epoch_loss/(k)}  {epoch_acc/(k)}')  \n",
    "                    torch.cuda.empty_cache()\n",
    "            k=k+1\n",
    "            i=i+seq_len\n",
    "        epoch_loss=epoch_loss/k\n",
    "        epoch_acc=epoch_acc/k\n",
    "        \n",
    "        if 1==0:\n",
    "            lr /= 4.0\n",
    "            # Freeze all the layers initially\n",
    "            for param in resnet.parameters():\n",
    "                param.requires_grad=False\n",
    "            torch.save(resnet,'resnet')\n",
    "            torch.save(resnet.state_dict(),'resnet_state_dict')\n",
    "            resnet.load_state_dict(torch.load('resnet_state_dict'))\n",
    "            for param_group in self.optimizer.param_groups:\n",
    "                    param_group['lr']=lr  \n",
    "            \n",
    "        return epoch_loss,epoch_acc\n",
    "    \n",
    "    def plot_lrs(self, n_roll=1):\n",
    "        import seaborn as sns\n",
    "        ax=sns.lineplot(x=self.lrs,y=pd.Series(self.losses).rolling(n_roll).mean())\n",
    "        ax.set_xscale('log')\n",
    "        ax.set_ylabel('Loss')\n",
    "        ax.set_xlabel('Learning Rate')\n",
    "\n",
    "    \n",
    "    def run_epochs(self,dltrain,dlvalid,n_epochs=1):\n",
    "        for epoch in range(n_epochs):\n",
    "            \n",
    "            loss,acc=self.run_epoch(dltrain,True)\n",
    "            print (f'Epoch:{epoch} Loss:{loss}')\n",
    "            lossv,accv=self.run_epoch(dlvalid,mode_train=False)\n",
    "            print (f'Epoch:{epoch} Loss:{loss} Accuracy:{acc} Loss:{lossv} Accuracy:{accv}')\n",
    "        "
   ]
  },
  {
   "cell_type": "code",
   "execution_count": 43,
   "metadata": {},
   "outputs": [],
   "source": [
    "optimizer=torch.optim.Adam(model.parameters(),lr=1e-3,betas=(0.9,0.999), weight_decay=wd)\n",
    "metric_fn=accuracy_multinomial"
   ]
  },
  {
   "cell_type": "code",
   "execution_count": 44,
   "metadata": {},
   "outputs": [
    {
     "data": {
      "text/plain": [
       "25728"
      ]
     },
     "execution_count": 44,
     "metadata": {},
     "output_type": "execute_result"
    }
   ],
   "source": [
    "n_batch=np.int(np.ceil(train_tokens.shape[1]/bptt))\n",
    "n_batch"
   ]
  },
  {
   "cell_type": "code",
   "execution_count": 45,
   "metadata": {},
   "outputs": [],
   "source": [
    "model.freeze_embedding()"
   ]
  },
  {
   "cell_type": "code",
   "execution_count": 46,
   "metadata": {},
   "outputs": [
    {
     "data": {
      "text/plain": [
       "(False, False)"
      ]
     },
     "execution_count": 46,
     "metadata": {},
     "output_type": "execute_result"
    }
   ],
   "source": [
    "model.encoder.weight.requires_grad, model.decoder.weight.requires_grad"
   ]
  },
  {
   "cell_type": "code",
   "execution_count": 48,
   "metadata": {},
   "outputs": [],
   "source": [
    "learner=Learner(model,optimizer,accuracy_multinomial,device,bptt,5000,0.25)"
   ]
  },
  {
   "cell_type": "code",
   "execution_count": 49,
   "metadata": {},
   "outputs": [
    {
     "data": {
      "text/plain": [
       "60002"
      ]
     },
     "execution_count": 49,
     "metadata": {},
     "output_type": "execute_result"
    }
   ],
   "source": [
    "model.n_inp"
   ]
  },
  {
   "cell_type": "code",
   "execution_count": null,
   "metadata": {},
   "outputs": [
    {
     "name": "stdout",
     "output_type": "stream",
     "text": [
      "Batch:5000 5.660099112510681  0.1619794583447743\n",
      "Batch:10000 5.27608531050682  0.18137348753551488\n",
      "Batch:15000 5.106804475784302  0.19324497409986022\n",
      "Batch:20000 5.0118707517147065  0.20025561484341742\n",
      "Batch:25000 4.9513509380149845  0.20486050719157792\n",
      "Epoch:0 Loss:4.937247180149577\n",
      "Epoch:0 Loss:4.937247180149577 Accuracy:0.2059440121877043 Loss:4.380397307302333 Accuracy:0.2565007228931263\n",
      "Batch:5000 4.684021270942688  0.22623369568288326\n",
      "Batch:10000 4.678864989566803  0.22673836485743523\n",
      "Batch:15000 4.674609683291117  0.2272731980293989\n",
      "Batch:20000 4.670518686699867  0.22773529392778874\n"
     ]
    }
   ],
   "source": [
    "learner.run_epochs(train_tokens,valid_tokens,2)"
   ]
  },
  {
   "cell_type": "code",
   "execution_count": null,
   "metadata": {},
   "outputs": [],
   "source": [
    "learner.run_epochs(train_tokens,valid_tokens,2)"
   ]
  },
  {
   "cell_type": "code",
   "execution_count": 48,
   "metadata": {},
   "outputs": [],
   "source": [
    "torch.save(model.state_dict(),f'{DATAPATH}/inter/varybptt_model_state_dict_freeze')\n",
    "torch.save(optimizer.state_dict(),f'{DATAPATH}/inter/varybptt_learner_state_dict_freeze')"
   ]
  },
  {
   "cell_type": "code",
   "execution_count": 49,
   "metadata": {},
   "outputs": [],
   "source": [
    "model.unfreeze_embedding()"
   ]
  },
  {
   "cell_type": "code",
   "execution_count": 50,
   "metadata": {},
   "outputs": [
    {
     "data": {
      "text/plain": [
       "(True, True)"
      ]
     },
     "execution_count": 50,
     "metadata": {},
     "output_type": "execute_result"
    }
   ],
   "source": [
    "model.encoder.weight.requires_grad, model.decoder.weight.requires_grad"
   ]
  },
  {
   "cell_type": "code",
   "execution_count": 51,
   "metadata": {},
   "outputs": [
    {
     "name": "stdout",
     "output_type": "stream",
     "text": [
      "Epoch:0 Loss:2.455076994214739\n",
      "Epoch:0 Loss:2.455076994214739 Accuracy:0.4894116648605892 Loss:1.574017842610677 Accuracy:0.6905677914619446\n",
      "Epoch:1 Loss:2.362198153057614\n",
      "Epoch:1 Loss:2.362198153057614 Accuracy:0.5339623262753358 Loss:1.4725878238677979 Accuracy:0.7192308108011881\n",
      "Epoch:2 Loss:2.2712207356014766\n",
      "Epoch:2 Loss:2.2712207356014766 Accuracy:0.5521716805728706 Loss:1.3900961875915527 Accuracy:0.7353480259577433\n",
      "Epoch:3 Loss:2.1909215859004427\n",
      "Epoch:3 Loss:2.1909215859004427 Accuracy:0.5655832631247384 Loss:1.3382569551467896 Accuracy:0.7434982061386108\n",
      "Epoch:4 Loss:2.1503394874366553\n",
      "Epoch:4 Loss:2.1503394874366553 Accuracy:0.5730291685542545 Loss:1.2933137814203899 Accuracy:0.747619092464447\n",
      "Epoch:5 Loss:2.1151228646437326\n",
      "Epoch:5 Loss:2.1151228646437326 Accuracy:0.5771593401829401 Loss:1.2713415225346882 Accuracy:0.7546703616778055\n",
      "Epoch:6 Loss:2.0871008430208478\n",
      "Epoch:6 Loss:2.0871008430208478 Accuracy:0.5828100732394628 Loss:1.2303366263707478 Accuracy:0.7603480021158854\n",
      "Epoch:7 Loss:2.049787415398492\n",
      "Epoch:7 Loss:2.049787415398492 Accuracy:0.5878686490986083 Loss:1.2014473676681519 Accuracy:0.7624542514483134\n",
      "Epoch:8 Loss:2.0105047290389604\n",
      "Epoch:8 Loss:2.0105047290389604 Accuracy:0.5927373944102107 Loss:1.1757161617279053 Accuracy:0.7658425172170004\n",
      "Epoch:9 Loss:2.0002735687626734\n",
      "Epoch:9 Loss:2.0002735687626734 Accuracy:0.5935552600357268 Loss:1.1490439176559448 Accuracy:0.769505520661672\n",
      "Epoch:10 Loss:1.9624593257904053\n",
      "Epoch:10 Loss:1.9624593257904053 Accuracy:0.5986927230107156 Loss:1.118380864461263 Accuracy:0.7742674152056376\n",
      "Epoch:11 Loss:1.93988898396492\n",
      "Epoch:11 Loss:1.93988898396492 Accuracy:0.5997661103804907 Loss:1.1025839646657307 Accuracy:0.7743590275446574\n",
      "Epoch:12 Loss:1.9222989579041798\n",
      "Epoch:12 Loss:1.9222989579041798 Accuracy:0.6029154989454482 Loss:1.0795907974243164 Accuracy:0.7793040672938029\n",
      "Epoch:13 Loss:1.8930424054463704\n",
      "Epoch:13 Loss:1.8930424054463704 Accuracy:0.6075712260272768 Loss:1.067053000132243 Accuracy:0.7815934618314108\n",
      "Epoch:14 Loss:1.8972607089413538\n",
      "Epoch:14 Loss:1.8972607089413538 Accuracy:0.6069520993365182 Loss:1.0264872511227925 Accuracy:0.7886447310447693\n",
      "Epoch:15 Loss:1.84985171424018\n",
      "Epoch:15 Loss:1.84985171424018 Accuracy:0.6121854914559258 Loss:1.0155606071154277 Accuracy:0.7915751139322916\n",
      "Epoch:16 Loss:1.8313815924856398\n",
      "Epoch:16 Loss:1.8313815924856398 Accuracy:0.6158172984917959 Loss:0.9951638976732889 Accuracy:0.7942308187484741\n",
      "Epoch:17 Loss:1.8362487885687087\n",
      "Epoch:17 Loss:1.8362487885687087 Accuracy:0.6147409627834955 Loss:0.9769243200620016 Accuracy:0.7954212625821432\n",
      "Epoch:18 Loss:1.804358227385415\n",
      "Epoch:18 Loss:1.804358227385415 Accuracy:0.6182440453105502 Loss:0.9640217026074728 Accuracy:0.8003663420677185\n",
      "Epoch:19 Loss:1.782251216269828\n",
      "Epoch:19 Loss:1.782251216269828 Accuracy:0.6216929893235903 Loss:0.9513073563575745 Accuracy:0.8021978338559469\n",
      "Epoch:20 Loss:1.7739205701010567\n",
      "Epoch:20 Loss:1.7739205701010567 Accuracy:0.6226452384676252 Loss:0.9297193884849548 Accuracy:0.8076007763544718\n",
      "Epoch:21 Loss:1.753879223551069\n",
      "Epoch:21 Loss:1.753879223551069 Accuracy:0.6255494832992554 Loss:0.9041716853777567 Accuracy:0.8117216428120931\n",
      "Epoch:22 Loss:1.7346980383521633\n",
      "Epoch:22 Loss:1.7346980383521633 Accuracy:0.6288153748763236 Loss:0.8859140674273173 Accuracy:0.8145604928334554\n",
      "Epoch:23 Loss:1.7075832298823765\n",
      "Epoch:23 Loss:1.7075832298823765 Accuracy:0.6316248348781041 Loss:0.8699632485707601 Accuracy:0.8169414202372233\n",
      "Epoch:24 Loss:1.7091237620303505\n",
      "Epoch:24 Loss:1.7091237620303505 Accuracy:0.6317814008185738 Loss:0.8488061428070068 Accuracy:0.8201465606689453\n",
      "Epoch:25 Loss:1.6867163624082293\n",
      "Epoch:25 Loss:1.6867163624082293 Accuracy:0.6359183975628444 Loss:0.8370538353919983 Accuracy:0.8217949072519938\n",
      "Epoch:26 Loss:1.6663733141762869\n",
      "Epoch:26 Loss:1.6663733141762869 Accuracy:0.640071702003479 Loss:0.8187755544980367 Accuracy:0.8323260347048441\n",
      "Epoch:27 Loss:1.656964888443818\n",
      "Epoch:27 Loss:1.656964888443818 Accuracy:0.6399026625865215 Loss:0.8107272585233053 Accuracy:0.8279304305712382\n",
      "Epoch:28 Loss:1.6315841061728342\n",
      "Epoch:28 Loss:1.6315841061728342 Accuracy:0.6426995073046003 Loss:0.7970619996388754 Accuracy:0.8311355511347452\n",
      "Epoch:29 Loss:1.6379104091061487\n",
      "Epoch:29 Loss:1.6379104091061487 Accuracy:0.6428601609336005 Loss:0.7846249143282572 Accuracy:0.8325091997782389\n",
      "Epoch:30 Loss:1.6194271802902223\n",
      "Epoch:30 Loss:1.6194271802902223 Accuracy:0.6459105474608285 Loss:0.7624580264091492 Accuracy:0.8373626669247946\n",
      "Epoch:31 Loss:1.5880581481116158\n",
      "Epoch:31 Loss:1.5880581481116158 Accuracy:0.6510228259222848 Loss:0.7559120059013367 Accuracy:0.841117262840271\n",
      "Epoch:32 Loss:1.5810842249128554\n",
      "Epoch:32 Loss:1.5810842249128554 Accuracy:0.6497637927532196 Loss:0.7513285676638285 Accuracy:0.8394688963890076\n",
      "Epoch:33 Loss:1.5842366797583445\n",
      "Epoch:33 Loss:1.5842366797583445 Accuracy:0.6500863722392491 Loss:0.7312378287315369 Accuracy:0.8467033306757609\n",
      "Epoch:34 Loss:1.5609818895657857\n",
      "Epoch:34 Loss:1.5609818895657857 Accuracy:0.6555708514319526 Loss:0.7155296007792155 Accuracy:0.8502747615178426\n",
      "Epoch:35 Loss:1.5429258721215384\n",
      "Epoch:35 Loss:1.5429258721215384 Accuracy:0.657374267918723 Loss:0.7082926432291666 Accuracy:0.8475275238355001\n",
      "Epoch:36 Loss:1.5297872953944736\n",
      "Epoch:36 Loss:1.5297872953944736 Accuracy:0.6584823379913965 Loss:0.7038761178652445 Accuracy:0.8475275238355001\n",
      "Epoch:37 Loss:1.5367610189649794\n",
      "Epoch:37 Loss:1.5367610189649794 Accuracy:0.6564248866505094 Loss:0.7054798007011414 Accuracy:0.8451465566953024\n",
      "Epoch:38 Loss:1.5255574882030487\n",
      "Epoch:38 Loss:1.5255574882030487 Accuracy:0.659569631020228 Loss:0.67805415391922 Accuracy:0.8532051841417948\n",
      "Epoch:39 Loss:1.5028531449181692\n",
      "Epoch:39 Loss:1.5028531449181692 Accuracy:0.663233939238957 Loss:0.6736268599828085 Accuracy:0.8556776841481527\n",
      "Epoch:40 Loss:1.5063838263352711\n",
      "Epoch:40 Loss:1.5063838263352711 Accuracy:0.6622843643029531 Loss:0.663176159063975 Accuracy:0.8591575423876444\n",
      "Epoch:41 Loss:1.4847167375925425\n",
      "Epoch:41 Loss:1.4847167375925425 Accuracy:0.6666585174766747 Loss:0.6650002400080363 Accuracy:0.8547619382540385\n",
      "Epoch:42 Loss:1.4835407866372003\n",
      "Epoch:42 Loss:1.4835407866372003 Accuracy:0.6646085729201635 Loss:0.643807570139567 Accuracy:0.8587912519772848\n",
      "Epoch:43 Loss:1.461147665977478\n",
      "Epoch:43 Loss:1.461147665977478 Accuracy:0.6674804074423654 Loss:0.6387837727864584 Accuracy:0.8610806067784628\n",
      "Epoch:44 Loss:1.4472778605090246\n",
      "Epoch:44 Loss:1.4472778605090246 Accuracy:0.671344992187288 Loss:0.6303781668345133 Accuracy:0.8641026020050049\n",
      "Epoch:45 Loss:1.4444188731057304\n",
      "Epoch:45 Loss:1.4444188731057304 Accuracy:0.6722449285643441 Loss:0.6240981817245483 Accuracy:0.8645604848861694\n",
      "Epoch:46 Loss:1.4402674879346575\n",
      "Epoch:46 Loss:1.4402674879346575 Accuracy:0.671232715674809 Loss:0.6067822178204855 Accuracy:0.8686813513437907\n",
      "Epoch:47 Loss:1.4192199773258634\n",
      "Epoch:47 Loss:1.4192199773258634 Accuracy:0.6751845015419854 Loss:0.5936687390009562 Accuracy:0.8695055445035299\n",
      "Epoch:48 Loss:1.4161393063408987\n",
      "Epoch:48 Loss:1.4161393063408987 Accuracy:0.6769490429333278 Loss:0.5854109128316244 Accuracy:0.8752747774124146\n",
      "Epoch:49 Loss:1.397547431894251\n",
      "Epoch:49 Loss:1.397547431894251 Accuracy:0.6787093023996096 Loss:0.5846731066703796 Accuracy:0.8724359472592672\n"
     ]
    }
   ],
   "source": [
    "learner.run_epochs(train_tokens,valid_tokens,5)"
   ]
  },
  {
   "cell_type": "code",
   "execution_count": 52,
   "metadata": {},
   "outputs": [
    {
     "name": "stdout",
     "output_type": "stream",
     "text": [
      "Epoch:0 Loss:1.4005129079560976\n",
      "Epoch:0 Loss:1.4005129079560976 Accuracy:0.6779703530105384 Loss:0.5738116105397543 Accuracy:0.8760989507039388\n",
      "Epoch:1 Loss:1.384764916367001\n",
      "Epoch:1 Loss:1.384764916367001 Accuracy:0.6801707049210867 Loss:0.5655213793118795 Accuracy:0.8769231041272482\n",
      "Epoch:2 Loss:1.3963093314852033\n",
      "Epoch:2 Loss:1.3963093314852033 Accuracy:0.6796232666288103 Loss:0.5642988483111063 Accuracy:0.8788461883862814\n",
      "Epoch:3 Loss:1.3806347846984863\n",
      "Epoch:3 Loss:1.3806347846984863 Accuracy:0.6823077235903059 Loss:0.551474134127299 Accuracy:0.8780220150947571\n",
      "Epoch:4 Loss:1.3543897458485195\n",
      "Epoch:4 Loss:1.3543897458485195 Accuracy:0.6872370788029262 Loss:0.5427469611167908 Accuracy:0.8802197972933451\n",
      "Epoch:5 Loss:1.3410670586994715\n",
      "Epoch:5 Loss:1.3410670586994715 Accuracy:0.6885008113724845 Loss:0.5266106923421224 Accuracy:0.8869963884353638\n",
      "Epoch:6 Loss:1.3506292036601475\n",
      "Epoch:6 Loss:1.3506292036601475 Accuracy:0.6883438331740243 Loss:0.5227194825808207 Accuracy:0.8872710863749186\n",
      "Epoch:7 Loss:1.3496377672467912\n",
      "Epoch:7 Loss:1.3496377672467912 Accuracy:0.6878650222505842 Loss:0.5299135645230612 Accuracy:0.8821429212888082\n",
      "Epoch:8 Loss:1.3235021216528757\n",
      "Epoch:8 Loss:1.3235021216528757 Accuracy:0.6915412170546396 Loss:0.5142259895801544 Accuracy:0.8863553603490194\n",
      "Epoch:9 Loss:1.328170643533979\n",
      "Epoch:9 Loss:1.328170643533979 Accuracy:0.6913265636989049 Loss:0.512482633193334 Accuracy:0.8887363076210022\n",
      "Epoch:10 Loss:1.3186415566338434\n",
      "Epoch:10 Loss:1.3186415566338434 Accuracy:0.6913690782255597 Loss:0.5033677617708842 Accuracy:0.8891026178995768\n",
      "Epoch:11 Loss:1.3138748952320645\n",
      "Epoch:11 Loss:1.3138748952320645 Accuracy:0.6936656526156835 Loss:0.49693363904953003 Accuracy:0.892216165860494\n",
      "Epoch:12 Loss:1.2876069341387069\n",
      "Epoch:12 Loss:1.2876069341387069 Accuracy:0.6972944106374468 Loss:0.4910852015018463 Accuracy:0.8917582829793295\n",
      "Epoch:13 Loss:1.2802318062101092\n",
      "Epoch:13 Loss:1.2802318062101092 Accuracy:0.6991000890731811 Loss:0.48255101839701336 Accuracy:0.8962454597155253\n",
      "Epoch:14 Loss:1.297577828168869\n",
      "Epoch:14 Loss:1.297577828168869 Accuracy:0.6957142535183165 Loss:0.47212571899096173 Accuracy:0.8985348343849182\n",
      "Epoch:15 Loss:1.2843823364802769\n",
      "Epoch:15 Loss:1.2843823364802769 Accuracy:0.6971428871154786 Loss:0.4595799744129181 Accuracy:0.9035714666048685\n",
      "Epoch:16 Loss:1.2778519325786166\n",
      "Epoch:16 Loss:1.2778519325786166 Accuracy:0.6989917076296277 Loss:0.45382678508758545 Accuracy:0.900915781656901\n",
      "Epoch:17 Loss:1.2602326222828457\n",
      "Epoch:17 Loss:1.2602326222828457 Accuracy:0.7012490953717913 Loss:0.45058390498161316 Accuracy:0.9022893905639648\n",
      "Epoch:18 Loss:1.258663472202089\n",
      "Epoch:18 Loss:1.258663472202089 Accuracy:0.7007707903782526 Loss:0.4407772322495778 Accuracy:0.9054029782613119\n",
      "Epoch:19 Loss:1.2524375551276736\n",
      "Epoch:19 Loss:1.2524375551276736 Accuracy:0.70228178302447 Loss:0.4306013186772664 Accuracy:0.9054945508639017\n"
     ]
    }
   ],
   "source": [
    "learner.run_epochs(train_tokens,valid_tokens,20)"
   ]
  },
  {
   "cell_type": "code",
   "execution_count": 53,
   "metadata": {},
   "outputs": [
    {
     "name": "stdout",
     "output_type": "stream",
     "text": [
      "Epoch:0 Loss:1.2286284617015293\n",
      "Epoch:0 Loss:1.2286284617015293 Accuracy:0.7059439931597028 Loss:0.4248349368572235 Accuracy:0.906501849492391\n",
      "Epoch:1 Loss:1.228726397241865\n",
      "Epoch:1 Loss:1.228726397241865 Accuracy:0.7059327346937997 Loss:0.42250380913416546 Accuracy:0.9094322721163431\n",
      "Epoch:2 Loss:1.243957143080862\n",
      "Epoch:2 Loss:1.243957143080862 Accuracy:0.7039552519195958 Loss:0.4171498119831085 Accuracy:0.9095238447189331\n",
      "Epoch:3 Loss:1.2298704896654402\n",
      "Epoch:3 Loss:1.2298704896654402 Accuracy:0.7064207536833627 Loss:0.407338410615921 Accuracy:0.9103480180104574\n",
      "Epoch:4 Loss:1.2144546045197382\n",
      "Epoch:4 Loss:1.2144546045197382 Accuracy:0.7080510126219856 Loss:0.4001307984193166 Accuracy:0.9136447509129842\n",
      "Epoch:5 Loss:1.2084093425008986\n",
      "Epoch:5 Loss:1.2084093425008986 Accuracy:0.7102856387694677 Loss:0.40115875999132794 Accuracy:0.9130952755610148\n",
      "Epoch:6 Loss:1.206751935822623\n",
      "Epoch:6 Loss:1.206751935822623 Accuracy:0.7094348788261413 Loss:0.389671911795934 Accuracy:0.9185897707939148\n",
      "Epoch:7 Loss:1.1838096545802221\n",
      "Epoch:7 Loss:1.1838096545802221 Accuracy:0.7150634742445416 Loss:0.38970668117205304 Accuracy:0.9162088433901469\n",
      "Epoch:8 Loss:1.1964853500065051\n",
      "Epoch:8 Loss:1.1964853500065051 Accuracy:0.7126279630159077 Loss:0.3863823513189952 Accuracy:0.9189561009407043\n",
      "Epoch:9 Loss:1.194244452885219\n",
      "Epoch:9 Loss:1.194244452885219 Accuracy:0.7130534103938512 Loss:0.3774067560831706 Accuracy:0.9219780762990316\n",
      "Epoch:10 Loss:1.1852065971919468\n",
      "Epoch:10 Loss:1.1852065971919468 Accuracy:0.7143799407141549 Loss:0.37314552068710327 Accuracy:0.9207875927289327\n",
      "Epoch:11 Loss:1.1604336533281538\n",
      "Epoch:11 Loss:1.1604336533281538 Accuracy:0.7180539286798902 Loss:0.3701561192671458 Accuracy:0.920421282450358\n",
      "Epoch:12 Loss:1.1653702769960677\n",
      "Epoch:12 Loss:1.1653702769960677 Accuracy:0.7169616733278547 Loss:0.37052029371261597 Accuracy:0.9197802742322286\n",
      "Epoch:13 Loss:1.1772339795086835\n",
      "Epoch:13 Loss:1.1772339795086835 Accuracy:0.7153029764020765 Loss:0.3646429379781087 Accuracy:0.9221612215042114\n",
      "Epoch:14 Loss:1.1512002638408116\n",
      "Epoch:14 Loss:1.1512002638408116 Accuracy:0.7204883916037423 Loss:0.3597835997740428 Accuracy:0.9215201934178671\n",
      "Epoch:15 Loss:1.1525204082330067\n",
      "Epoch:15 Loss:1.1525204082330067 Accuracy:0.7193804366721047 Loss:0.35134804248809814 Accuracy:0.9239011406898499\n",
      "Epoch:16 Loss:1.1442707551492226\n",
      "Epoch:16 Loss:1.1442707551492226 Accuracy:0.7211516177332079 Loss:0.35278178254763287 Accuracy:0.9235348304112753\n",
      "Epoch:17 Loss:1.142245670727321\n",
      "Epoch:17 Loss:1.142245670727321 Accuracy:0.7221507396016802 Loss:0.359426607688268 Accuracy:0.9201465646425883\n",
      "Epoch:18 Loss:1.137427853213416\n",
      "Epoch:18 Loss:1.137427853213416 Accuracy:0.7221403039164014 Loss:0.34530360500017804 Accuracy:0.9235348304112753\n",
      "Epoch:19 Loss:1.119051295850012\n",
      "Epoch:19 Loss:1.119051295850012 Accuracy:0.7251908166540993 Loss:0.34305981794993085 Accuracy:0.9250000317891439\n"
     ]
    }
   ],
   "source": [
    "learner.run_epochs(train_tokens,valid_tokens,20)"
   ]
  },
  {
   "cell_type": "code",
   "execution_count": 54,
   "metadata": {},
   "outputs": [],
   "source": [
    "torch.save(model.state_dict(),f'{DATAPATH}/inter/varybptt_model_state_dict_unfreeze')\n",
    "torch.save(optimizer.state_dict(),f'{DATAPATH}/inter/varybptt_learner_state_dict_unfreeze')"
   ]
  },
  {
   "cell_type": "code",
   "execution_count": 55,
   "metadata": {},
   "outputs": [
    {
     "name": "stderr",
     "output_type": "stream",
     "text": [
      "/home/kirana/anaconda3/lib/python3.7/site-packages/torch/serialization.py:256: UserWarning: Couldn't retrieve source code for container of type language_model. It won't be checked for correctness upon loading.\n",
      "  \"type \" + obj.__name__ + \". It won't be checked \"\n"
     ]
    }
   ],
   "source": [
    "torch.save (model,f'{DATAPATH}/inter/varybptt_model_awd_lstm')\n",
    "torch.save (optimizer,f'{DATAPATH}/inter/varybptt_optimizer_awd_lstm')\n",
    "torch.save (learner,f'{DATAPATH}/inter/varybptt_learner_awd_lstm')"
   ]
  },
  {
   "cell_type": "code",
   "execution_count": 56,
   "metadata": {},
   "outputs": [],
   "source": [
    "pretrained_lm_weights=model.encoder.weight.data.cpu().numpy()\n",
    "import pickle\n",
    "pickle.dump(pretrained_lm_weights,open(f'{DATAPATH}/inter/varybpttpretrained_lm_weights','wb'))"
   ]
  },
  {
   "cell_type": "code",
   "execution_count": null,
   "metadata": {},
   "outputs": [],
   "source": []
  }
 ],
 "metadata": {
  "kernelspec": {
   "display_name": "Python 3",
   "language": "python",
   "name": "python3"
  },
  "language_info": {
   "codemirror_mode": {
    "name": "ipython",
    "version": 3
   },
   "file_extension": ".py",
   "mimetype": "text/x-python",
   "name": "python",
   "nbconvert_exporter": "python",
   "pygments_lexer": "ipython3",
   "version": "3.7.3"
  }
 },
 "nbformat": 4,
 "nbformat_minor": 2
}
