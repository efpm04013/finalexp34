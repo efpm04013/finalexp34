{
 "cells": [
  {
   "cell_type": "code",
   "execution_count": 1,
   "metadata": {},
   "outputs": [],
   "source": [
    "import pandas as pd\n",
    "import pickle\n",
    "import numpy as np\n",
    "import torch\n",
    "from torch import nn\n",
    "import os \n",
    "import fastai\n",
    "import fastai\n",
    "from fastai.text import *"
   ]
  },
  {
   "cell_type": "code",
   "execution_count": 2,
   "metadata": {},
   "outputs": [],
   "source": [
    "PATH=\"/home/kirana/Documents/phd\"\n",
    "DATAPATH=\"/home/kirana/Documents/phd/data/experiment/AMAZON_BINARY\""
   ]
  },
  {
   "cell_type": "markdown",
   "metadata": {},
   "source": [
    "## Dataset"
   ]
  },
  {
   "cell_type": "code",
   "execution_count": null,
   "metadata": {},
   "outputs": [],
   "source": [
    "[df_train,df_valid,itos, train_tokens, valid_tokens, trn_lm, val_lm]=pickle.load(open(f'{DATAPATH}/inter/dfs_tokens_fastai.pkl','rb'))"
   ]
  },
  {
   "cell_type": "code",
   "execution_count": null,
   "metadata": {},
   "outputs": [],
   "source": [
    "bs=52 # 52 - Jeremey, 20 - default"
   ]
  },
  {
   "cell_type": "code",
   "execution_count": null,
   "metadata": {},
   "outputs": [],
   "source": [
    "bptt= 70 #70 - Jeremey, 35 - default"
   ]
  },
  {
   "cell_type": "code",
   "execution_count": null,
   "metadata": {},
   "outputs": [],
   "source": [
    "def create_data_lm(tokens,bs):\n",
    "    import itertools\n",
    "    # Collapse into a single large array\n",
    "    tokens=np.asarray(list (itertools.chain(*tokens)))\n",
    "    # How many batches\n",
    "    n_batch=len(tokens)//bs\n",
    "    # Truncate to exclude the ones at the end\n",
    "    tokens=tokens[:bs*n_batch]\n",
    "    # Reshape\n",
    "    tokens=tokens.reshape(bs,-1)\n",
    "    return tokens"
   ]
  },
  {
   "cell_type": "code",
   "execution_count": null,
   "metadata": {},
   "outputs": [],
   "source": [
    "train_tokens=create_data_lm(df_train['tokens'],bs)\n",
    "valid_tokens=create_data_lm(df_valid['tokens'],bs)\n",
    "train_tokens.shape, valid_tokens.shape"
   ]
  },
  {
   "cell_type": "code",
   "execution_count": null,
   "metadata": {},
   "outputs": [],
   "source": [
    "def get_batch(source, i):\n",
    "    seq_len = min(args.bptt, len(source) - 1 - i)\n",
    "    data = source[i:i+seq_len]\n",
    "    target = source[i+1:i+1+seq_len].view(-1)\n",
    "    return data, target"
   ]
  },
  {
   "cell_type": "code",
   "execution_count": null,
   "metadata": {},
   "outputs": [],
   "source": [
    "n_batch=train_tokens.shape[1]\n",
    "for i in range(0,n_batch,bptt):\n",
    "    seq_len=min(bptt,n_batch-1-i)\n",
    "    x=train_tokens[:,i:i+seq_len]\n",
    "    y=train_tokens[:,i+1:i+1+seq_len]\n",
    "    print (x.shape, y.shape)\n",
    "    break"
   ]
  },
  {
   "cell_type": "code",
   "execution_count": null,
   "metadata": {},
   "outputs": [],
   "source": [
    "x.shape,y.shape"
   ]
  },
  {
   "cell_type": "code",
   "execution_count": null,
   "metadata": {},
   "outputs": [],
   "source": [
    "x,y"
   ]
  },
  {
   "cell_type": "code",
   "execution_count": null,
   "metadata": {},
   "outputs": [],
   "source": [
    "x.shape,y.shape"
   ]
  },
  {
   "cell_type": "code",
   "execution_count": null,
   "metadata": {},
   "outputs": [],
   "source": [
    "train_tokens.shape"
   ]
  },
  {
   "cell_type": "markdown",
   "metadata": {},
   "source": [
    "## pre-trained AWD-LSTM"
   ]
  },
  {
   "cell_type": "code",
   "execution_count": null,
   "metadata": {},
   "outputs": [],
   "source": [
    "PATH_AWD_LSTM='/home/kirana/Documents/phd/data/pre-trained/awd_lstm/'"
   ]
  },
  {
   "cell_type": "code",
   "execution_count": null,
   "metadata": {},
   "outputs": [],
   "source": [
    "ls {PATH_AWD_LSTM}"
   ]
  },
  {
   "cell_type": "code",
   "execution_count": null,
   "metadata": {},
   "outputs": [],
   "source": [
    "wgts = torch.load(f'{PATH_AWD_LSTM}/fwd_wt103.h5', map_location=lambda storage, loc: storage)"
   ]
  },
  {
   "cell_type": "code",
   "execution_count": null,
   "metadata": {},
   "outputs": [],
   "source": [
    "wgts"
   ]
  },
  {
   "cell_type": "code",
   "execution_count": null,
   "metadata": {},
   "outputs": [],
   "source": [
    "wgts = torch.load(f'{PATH_AWD_LSTM}/fwd_wt103_enc.h5', map_location=lambda storage, loc: storage)"
   ]
  },
  {
   "cell_type": "code",
   "execution_count": null,
   "metadata": {},
   "outputs": [],
   "source": [
    "wgts"
   ]
  },
  {
   "cell_type": "code",
   "execution_count": null,
   "metadata": {},
   "outputs": [],
   "source": [
    "itos2=pickle.load(open(f'{PATH_AWD_LSTM}/itos_wt103.pkl','rb'))\n",
    "stoi2 = collections.defaultdict(lambda: -1, { v: k for k, v in enumerate(itos2) })"
   ]
  },
  {
   "cell_type": "code",
   "execution_count": null,
   "metadata": {},
   "outputs": [],
   "source": [
    "wgts['encoder.weight'].shape"
   ]
  },
  {
   "cell_type": "code",
   "execution_count": null,
   "metadata": {},
   "outputs": [],
   "source": [
    "enc_wgts = wgts['encoder.weight'].numpy() # converts np.ndarray from torch.FloatTensor.output shape: (238462, 400)\n",
    "row_m = enc_wgts.mean(0) # returns the average of the array elements along axis 0. output shape: (400,)"
   ]
  },
  {
   "cell_type": "code",
   "execution_count": null,
   "metadata": {},
   "outputs": [],
   "source": [
    "enc_wgts.shape, len(itos)"
   ]
  },
  {
   "cell_type": "code",
   "execution_count": null,
   "metadata": {},
   "outputs": [],
   "source": [
    "n_emb=enc_wgts.shape[1]"
   ]
  },
  {
   "cell_type": "code",
   "execution_count": null,
   "metadata": {},
   "outputs": [],
   "source": [
    "new_w = np.zeros((len(itos),n_emb), dtype=np.float32) # shape: (60002, 400)\n",
    "\n",
    "for i, w in enumerate(itos):\n",
    "    r = stoi2[w]\n",
    "    new_w[i] = enc_wgts[r] if r >= 0 else row_m"
   ]
  },
  {
   "cell_type": "code",
   "execution_count": null,
   "metadata": {},
   "outputs": [],
   "source": [
    "len(set(itos).difference(set(itos2)))"
   ]
  },
  {
   "cell_type": "markdown",
   "metadata": {},
   "source": [
    "## Model Architecture"
   ]
  },
  {
   "cell_type": "code",
   "execution_count": null,
   "metadata": {},
   "outputs": [],
   "source": [
    "from torch import nn\n",
    "import torch\n",
    "from torch.autograd import Variable"
   ]
  },
  {
   "cell_type": "code",
   "execution_count": null,
   "metadata": {},
   "outputs": [],
   "source": [
    "n_inp=len(itos)\n",
    "n_emb=400 #650\n",
    "n_hidden=400 #650\n",
    "n_layers=2\n",
    "dropout=0.5\n",
    "wd=1e-7"
   ]
  },
  {
   "cell_type": "code",
   "execution_count": null,
   "metadata": {},
   "outputs": [],
   "source": [
    "class language_model (nn.Module):\n",
    "    def __init__(self,n_inp,n_emb,n_hidden,n_layers,bidirectional,bs,device,dropout_e=0.05,dropout=0.5,\\\n",
    "                 dropout_o=0.5,pretrain_mtx=None,adaptive_log_softmax=True,tie_weights=True):\n",
    "        super().__init__()\n",
    "        self.n_inp,self.n_emb,self.n_hidden,self.n_layers,self.bidirectional,self.bs,self.device,self.pretrain_mtx=\\\n",
    "                            n_inp,n_emb,n_hidden,n_layers,bidirectional,bs,device,pretrain_mtx\n",
    "        self.adaptive_log_softmax,self.tie_weights=adaptive_log_softmax,tie_weights\n",
    "        self.dropout_e,self.dropout,self.dropout_o=dropout_e,dropout,dropout_o\n",
    "        self.gen_hidden()\n",
    "        self.create_architecture()\n",
    "        if pretrain_mtx is not None:\n",
    "            print (\"initializing\")\n",
    "            self.initialize_glove()\n",
    "            \n",
    "        if self.adaptive_log_softmax is False:\n",
    "            self.criterion=nn.CrossEntropyLoss()\n",
    "        \n",
    "    def create_architecture(self):\n",
    "        # Dropout layer\n",
    "        self.dropout_enc=nn.Dropout(self.dropout_e)\n",
    "        # Embedding Layer\n",
    "        self.encoder=nn.Embedding(self.n_inp,self.n_emb)\n",
    "        # LSTM Layer\n",
    "        self.lstm=nn.LSTM(self.n_emb,self.n_hidden,self.n_layers,batch_first=True,dropout=self.dropout,\\\n",
    "                          bidirectional=False)\n",
    "        self.dropout_op=nn.Dropout(self.dropout_o)\n",
    "        \n",
    "        if self.adaptive_log_softmax:\n",
    "            # Adaptive Log Softmax Loss\n",
    "            self.adaptive_softmax=AdaptiveLogSoftmaxWithLoss(self.n_hidden,\n",
    "                                    self.n_inp,\n",
    "                                    cutoffs=[round(self.n_inp/15),3*round(self.n_inp/15)],\n",
    "                                    div_value=4,\n",
    "                                    get_full_prob=True)\n",
    "        else:\n",
    "            self.decoder=nn.Linear(self.n_hidden,self.n_inp)\n",
    "    \n",
    "    def freeze_embedding(self):\n",
    "        self.encoder.weight.requires_grad=False\n",
    "        if self.tie_weights:\n",
    "            self.decoder.weight.requires_grad=False\n",
    "        \n",
    "    \n",
    "    def unfreeze_embedding(self):\n",
    "        self.encoder.weight.requires_grad=True\n",
    "        if self.tie_weights:\n",
    "            self.decoder.weight.requires_grad=True\n",
    "        \n",
    "    def initialize_glove(self):\n",
    "        self.encoder.weight.data=torch.Tensor(self.pretrain_mtx)\n",
    "        if self.tie_weights:\n",
    "            self.decoder.weight=self.encoder.weight\n",
    "    \n",
    "    def gen_hidden(self):\n",
    "        # Initialize hidden\n",
    "        self.hidden=(Variable(torch.zeros(self.n_layers,self.bs,self.n_hidden,requires_grad=False).to(self.device)),\n",
    "                     Variable(torch.zeros(self.n_layers,self.bs,self.n_hidden,requires_grad=False).to(self.device)))\n",
    "    \n",
    "        \n",
    "    def forward(self,Xb,Yb):\n",
    "        #import pdb\n",
    "        #pdb.set_trace()\n",
    "        embs=self.dropout_enc(self.encoder(Xb))\n",
    "        if Xb.size(0) < self.bs:\n",
    "            self.hidden=(self.hidden[0][:,:Xb.size(0),:].contiguous(),\n",
    "            self.hidden[1][:,:Xb.size(0),:].contiguous())\n",
    "        out,new_hidden=self.lstm(embs,self.hidden)\n",
    "        out=self.dropout_op(out)\n",
    "         # Wrap the hidden state in a new tensor without the gradients\n",
    "        self.hidden=(Variable(new_hidden[0].data,requires_grad=False).to(self.device),\\\n",
    "                     Variable(new_hidden[1].data,requires_grad=False).to(self.device))\n",
    "        if self.adaptive_log_softmax:\n",
    "            out=out.reshape(out.size(0)*out.size(1),out.size(2))        # output is of shape n_batch * n_seq * n_hidden\n",
    "      \n",
    "            out=self.adaptive_softmax(out,Yb.view(-1))\n",
    "            loss=out.loss\n",
    "            preds=out.output_full\n",
    "        else:\n",
    "            #import pdb\n",
    "            #pdb.set_trace()\n",
    "            preds=self.decoder(out.contiguous().view(out.size(0)*out.size(1), out.size(2)))\n",
    "            loss=self.criterion(preds,Yb.contiguous().view(-1))\n",
    "\n",
    "        return preds, loss  "
   ]
  },
  {
   "cell_type": "code",
   "execution_count": null,
   "metadata": {},
   "outputs": [],
   "source": [
    "def accuracy_multinomial(preds,actual):\n",
    "    preds=preds.max(1)[1]\n",
    "    correct=preds==actual\n",
    "    return correct.float().sum()/len(correct)"
   ]
  },
  {
   "cell_type": "code",
   "execution_count": null,
   "metadata": {},
   "outputs": [],
   "source": [
    "device=\"cuda:1\"\n",
    "model=language_model(n_inp,n_emb,n_hidden,n_layers,False,bs,device,0.05,0.5,0.5,new_w,False,True)\n"
   ]
  },
  {
   "cell_type": "code",
   "execution_count": 32,
   "metadata": {},
   "outputs": [
    {
     "data": {
      "text/plain": [
       "(16206, 400)"
      ]
     },
     "execution_count": 32,
     "metadata": {},
     "output_type": "execute_result"
    }
   ],
   "source": [
    "new_w.shape"
   ]
  },
  {
   "cell_type": "code",
   "execution_count": 33,
   "metadata": {},
   "outputs": [
    {
     "data": {
      "text/plain": [
       "(torch.Size([16206, 400]), torch.Size([16206, 400]))"
      ]
     },
     "execution_count": 33,
     "metadata": {},
     "output_type": "execute_result"
    }
   ],
   "source": [
    "model.encoder.weight.data.shape,model.decoder.weight.data.shape"
   ]
  },
  {
   "cell_type": "code",
   "execution_count": 34,
   "metadata": {},
   "outputs": [
    {
     "data": {
      "text/plain": [
       "(torch.Size([16206, 400]), 400, 16206)"
      ]
     },
     "execution_count": 34,
     "metadata": {},
     "output_type": "execute_result"
    }
   ],
   "source": [
    "nn.Linear(n_hidden,n_inp).weight.data.shape, n_hidden, n_inp"
   ]
  },
  {
   "cell_type": "markdown",
   "metadata": {},
   "source": [
    "### Test if model forward works"
   ]
  },
  {
   "cell_type": "code",
   "execution_count": 35,
   "metadata": {},
   "outputs": [
    {
     "data": {
      "text/plain": [
       "(torch.Size([16206, 400]), torch.Size([16206, 400]))"
      ]
     },
     "execution_count": 35,
     "metadata": {},
     "output_type": "execute_result"
    }
   ],
   "source": [
    "model.decoder.weight.shape,model.encoder.weight.shape"
   ]
  },
  {
   "cell_type": "code",
   "execution_count": 36,
   "metadata": {},
   "outputs": [
    {
     "data": {
      "text/plain": [
       "(52, 70)"
      ]
     },
     "execution_count": 36,
     "metadata": {},
     "output_type": "execute_result"
    }
   ],
   "source": [
    "x.shape"
   ]
  },
  {
   "cell_type": "code",
   "execution_count": 37,
   "metadata": {},
   "outputs": [],
   "source": [
    "if 1==0:\n",
    "    model.forward(torch.LongTensor(x),torch.LongTensor(y))"
   ]
  },
  {
   "cell_type": "code",
   "execution_count": 38,
   "metadata": {},
   "outputs": [],
   "source": [
    "\n",
    "model=model.to(device)"
   ]
  },
  {
   "cell_type": "markdown",
   "metadata": {},
   "source": [
    "## Learner"
   ]
  },
  {
   "cell_type": "code",
   "execution_count": 39,
   "metadata": {},
   "outputs": [],
   "source": [
    "class Learner():\n",
    "    def __init__(self,model,optimizer,metric_fn,device,bptt=12,print_every=5,clip_val=None):\n",
    "        self.model,self.optimizer,self.metric_fn,self.device,self.print_every,self.bptt,self.losses,self.clip_val=\\\n",
    "            model,optimizer,metric_fn,device,print_every,bptt,[],clip_val\n",
    "        self.n_epochs=1\n",
    "\n",
    "    \n",
    "    def fit (self,Xb,Yb,mode_train=True):\n",
    "        if mode_train:\n",
    "            self.model.train()\n",
    "        else:\n",
    "            self.model.eval()\n",
    "            \n",
    "        preds,loss=self.model(Xb,Yb)\n",
    "        \n",
    "       \n",
    "            \n",
    "        \n",
    "        with torch.no_grad():\n",
    "            acc=self.metric_fn(preds,Yb.view(-1))\n",
    "            acc=acc.item()\n",
    "            del preds\n",
    "        \n",
    "        if mode_train:\n",
    "            self.optimizer.zero_grad()\n",
    "            loss.backward()\n",
    "            self.optimizer.step()\n",
    "        myloss=loss.item()\n",
    "        del loss\n",
    "        \n",
    "        if self.clip_val is not None:\n",
    "            torch.nn.utils.clip_grad_norm_(self.model.parameters(), 0.25)\n",
    "            if 1==0:\n",
    "                for p in self.model.parameters():\n",
    "                    p.data.add_(self.lr, p.grad.data)\n",
    "        \n",
    "        return myloss, acc\n",
    "    \n",
    "    def lr_find (self,start_lr,end_lr,iterator,n_batch):\n",
    "        losses,lrs=[],[]\n",
    "        ratio=end_lr/start_lr\n",
    "        num_steps=n_batch\n",
    "        lr=start_lr\n",
    "        for i in range(num_steps):            \n",
    "            lr=lr*(end_lr/start_lr)**(1/num_steps)\n",
    "            lrs.append(lr)\n",
    "        self.lrs=lrs\n",
    "        self.run_epoch(iterator,mode_train=True,lrs=lrs)\n",
    "    \n",
    "    def run_epoch(self,iterator,mode_train,lrs=None):\n",
    "        n_batch=iterator.shape[1]\n",
    "        epoch_loss,epoch_acc,i,k=0,0,0,0\n",
    "        self.model.gen_hidden()\n",
    "        #for k,i in enumerate(range(0,n_batch,self.bptt)):\n",
    "        n_batch=iterator.shape[1]\n",
    "        while i<n_batch-bptt:\n",
    "            if mode_train:\n",
    "                cust_bptt=self.bptt if np.random.random() < 0.95 else self.bptt//np.random.randint (2,4)\n",
    "            else:\n",
    "                cust_bptt=bptt\n",
    "            seq_len=min(cust_bptt,n_batch-1-i)\n",
    "            Xb=train_tokens[:,i:i+seq_len]\n",
    "            Yb=train_tokens[:,i+1:i+1+seq_len]\n",
    "            Xb=torch.LongTensor(Xb)\n",
    "            Yb=torch.LongTensor(Yb)\n",
    "            Xb=Xb.to(self.device)\n",
    "            Yb=Yb.to(self.device)\n",
    "            \n",
    "            if lrs is not None:\n",
    "                lr=lrs[k]\n",
    "                for param_group in self.optimizer.param_groups:\n",
    "                    param_group['lr']=lr \n",
    "            \n",
    "\n",
    "            loss,acc=self.fit(Xb,Yb,mode_train)\n",
    "            \n",
    "            if lrs is not None:\n",
    "                self.losses.append(loss)\n",
    "            \n",
    "            \n",
    "            epoch_loss+=loss\n",
    "            epoch_acc+=acc\n",
    "            if k%self.print_every == 0:\n",
    "                if k:\n",
    "                    print (f'Batch:{k} {epoch_loss/(k)}  {epoch_acc/(k)}')  \n",
    "                    torch.cuda.empty_cache()\n",
    "            k=k+1\n",
    "            i=i+seq_len\n",
    "        epoch_loss=epoch_loss/k\n",
    "        epoch_acc=epoch_acc/k\n",
    "        \n",
    "        if 1==0:\n",
    "            lr /= 4.0\n",
    "            # Freeze all the layers initially\n",
    "            for param in resnet.parameters():\n",
    "                param.requires_grad=False\n",
    "            torch.save(resnet,'resnet')\n",
    "            torch.save(resnet.state_dict(),'resnet_state_dict')\n",
    "            resnet.load_state_dict(torch.load('resnet_state_dict'))\n",
    "            for param_group in self.optimizer.param_groups:\n",
    "                    param_group['lr']=lr  \n",
    "            \n",
    "        return epoch_loss,epoch_acc\n",
    "    \n",
    "    def plot_lrs(self, n_roll=1):\n",
    "        import seaborn as sns\n",
    "        ax=sns.lineplot(x=self.lrs,y=pd.Series(self.losses).rolling(n_roll).mean())\n",
    "        ax.set_xscale('log')\n",
    "        ax.set_ylabel('Loss')\n",
    "        ax.set_xlabel('Learning Rate')\n",
    "\n",
    "    \n",
    "    def run_epochs(self,dltrain,dlvalid,n_epochs=1):\n",
    "        for epoch in range(n_epochs):\n",
    "            \n",
    "            loss,acc=self.run_epoch(dltrain,True)\n",
    "            print (f'Epoch:{epoch} Loss:{loss}')\n",
    "            lossv,accv=self.run_epoch(dlvalid,mode_train=False)\n",
    "            print (f'Epoch:{epoch} Loss:{loss} Accuracy:{acc} Loss:{lossv} Accuracy:{accv}')\n",
    "        "
   ]
  },
  {
   "cell_type": "code",
   "execution_count": 40,
   "metadata": {},
   "outputs": [],
   "source": [
    "optimizer=torch.optim.Adam(model.parameters(),lr=1e-3,betas=(0.9,0.999), weight_decay=wd)\n",
    "metric_fn=accuracy_multinomial"
   ]
  },
  {
   "cell_type": "code",
   "execution_count": 41,
   "metadata": {},
   "outputs": [
    {
     "data": {
      "text/plain": [
       "442"
      ]
     },
     "execution_count": 41,
     "metadata": {},
     "output_type": "execute_result"
    }
   ],
   "source": [
    "n_batch=np.int(np.ceil(train_tokens.shape[1]/bptt))\n",
    "n_batch"
   ]
  },
  {
   "cell_type": "code",
   "execution_count": 42,
   "metadata": {},
   "outputs": [],
   "source": [
    "model.freeze_embedding()"
   ]
  },
  {
   "cell_type": "code",
   "execution_count": 43,
   "metadata": {},
   "outputs": [
    {
     "data": {
      "text/plain": [
       "(False, False)"
      ]
     },
     "execution_count": 43,
     "metadata": {},
     "output_type": "execute_result"
    }
   ],
   "source": [
    "model.encoder.weight.requires_grad, model.decoder.weight.requires_grad"
   ]
  },
  {
   "cell_type": "code",
   "execution_count": 44,
   "metadata": {},
   "outputs": [],
   "source": [
    "learner=Learner(model,optimizer,accuracy_multinomial,device,bptt,500,0.25)"
   ]
  },
  {
   "cell_type": "code",
   "execution_count": 45,
   "metadata": {},
   "outputs": [
    {
     "data": {
      "text/plain": [
       "16206"
      ]
     },
     "execution_count": 45,
     "metadata": {},
     "output_type": "execute_result"
    }
   ],
   "source": [
    "model.n_inp"
   ]
  },
  {
   "cell_type": "code",
   "execution_count": 46,
   "metadata": {},
   "outputs": [
    {
     "name": "stdout",
     "output_type": "stream",
     "text": [
      "Epoch:0 Loss:6.942270007808651\n",
      "Epoch:0 Loss:6.942270007808651 Accuracy:0.13707779799340772 Loss:6.303294668594996 Accuracy:0.17152015554408231\n",
      "Epoch:1 Loss:6.353238028420343\n",
      "Epoch:1 Loss:6.353238028420343 Accuracy:0.16178938607374826 Loss:5.893028477827708 Accuracy:0.18747139008094868\n",
      "Epoch:2 Loss:6.006961266726058\n",
      "Epoch:2 Loss:6.006961266726058 Accuracy:0.1728815727149677 Loss:5.541946709156036 Accuracy:0.2012534411624074\n",
      "Epoch:3 Loss:5.705152110596368\n",
      "Epoch:3 Loss:5.705152110596368 Accuracy:0.1820674755149937 Loss:5.222893178462982 Accuracy:0.21514424216002226\n",
      "Epoch:4 Loss:5.429727396078869\n",
      "Epoch:4 Loss:5.429727396078869 Accuracy:0.19062959191809714 Loss:4.93864827354749 Accuracy:0.22814790656169256\n"
     ]
    }
   ],
   "source": [
    "learner.run_epochs(train_tokens,valid_tokens,5)"
   ]
  },
  {
   "cell_type": "code",
   "execution_count": 47,
   "metadata": {},
   "outputs": [
    {
     "name": "stdout",
     "output_type": "stream",
     "text": [
      "Epoch:0 Loss:5.181079887710841\n",
      "Epoch:0 Loss:5.181079887710841 Accuracy:0.20270939214171563 Loss:4.657285292943318 Accuracy:0.25449291585634154\n",
      "Epoch:1 Loss:4.953199159279631\n",
      "Epoch:1 Loss:4.953199159279631 Accuracy:0.24161001858187886 Loss:4.405627350012462 Accuracy:0.3194711667795976\n",
      "Epoch:2 Loss:4.7511257588605345\n",
      "Epoch:2 Loss:4.7511257588605345 Accuracy:0.2679013883719197 Loss:4.196161488691966 Accuracy:0.32993362347284955\n",
      "Epoch:3 Loss:4.5757434692299155\n",
      "Epoch:3 Loss:4.5757434692299155 Accuracy:0.2771412340695398 Loss:4.011842275659244 Accuracy:0.3403331196556489\n",
      "Epoch:4 Loss:4.434489325804857\n",
      "Epoch:4 Loss:4.434489325804857 Accuracy:0.2837197646039173 Loss:3.881600002447764 Accuracy:0.3468521187702815\n",
      "Epoch:5 Loss:4.324775397514982\n",
      "Epoch:5 Loss:4.324775397514982 Accuracy:0.2887851878803732 Loss:3.779797285795212 Accuracy:0.35254122627278167\n",
      "Epoch:6 Loss:4.24448635785476\n",
      "Epoch:6 Loss:4.24448635785476 Accuracy:0.29169240613346514 Loss:3.7049791564544043 Accuracy:0.357091361656785\n",
      "Epoch:7 Loss:4.181930683471344\n",
      "Epoch:7 Loss:4.181930683471344 Accuracy:0.2955812044851073 Loss:3.6344902018706002 Accuracy:0.36308953290184337\n",
      "Epoch:8 Loss:4.1346986708662055\n",
      "Epoch:8 Loss:4.1346986708662055 Accuracy:0.29767492722047056 Loss:3.5910059213638306 Accuracy:0.3679659056166808\n",
      "Epoch:9 Loss:4.0970833269825535\n",
      "Epoch:9 Loss:4.0970833269825535 Accuracy:0.30006063962458507 Loss:3.538544779022535 Accuracy:0.37277359950045746\n",
      "Epoch:10 Loss:4.067095269671584\n",
      "Epoch:10 Loss:4.067095269671584 Accuracy:0.3024288344040381 Loss:3.515905355413755 Accuracy:0.37538348821302253\n",
      "Epoch:11 Loss:4.040965068182756\n",
      "Epoch:11 Loss:4.040965068182756 Accuracy:0.3044997001403229 Loss:3.483619804183642 Accuracy:0.3789892587810755\n",
      "Epoch:12 Loss:4.022098498534312\n",
      "Epoch:12 Loss:4.022098498534312 Accuracy:0.30581934928102833 Loss:3.455424025654793 Accuracy:0.38340775792797405\n",
      "Epoch:13 Loss:4.002427023938049\n",
      "Epoch:13 Loss:4.002427023938049 Accuracy:0.3076377823489353 Loss:3.4450321743885675 Accuracy:0.3850961718708277\n",
      "Epoch:14 Loss:3.9887787179299985\n",
      "Epoch:14 Loss:3.9887787179299985 Accuracy:0.30934318274063927 Loss:3.4084798246622086 Accuracy:0.3899496520558993\n",
      "Epoch:15 Loss:3.974233512815676\n",
      "Epoch:15 Loss:3.974233512815676 Accuracy:0.3109103641227672 Loss:3.4066088745991387 Accuracy:0.3901671419541041\n",
      "Epoch:16 Loss:3.960795648249286\n",
      "Epoch:16 Loss:3.960795648249286 Accuracy:0.30183647328445634 Loss:3.374771853288015 Accuracy:0.3668212170402209\n",
      "Epoch:17 Loss:3.948509338923863\n",
      "Epoch:17 Loss:3.948509338923863 Accuracy:0.31204587109796295 Loss:3.356547623872757 Accuracy:0.39823147157828015\n",
      "Epoch:18 Loss:3.9378669225413114\n",
      "Epoch:18 Loss:3.9378669225413114 Accuracy:0.30010437906701404 Loss:3.3388291398684182 Accuracy:0.4001888918379943\n",
      "Epoch:19 Loss:3.925334488845556\n",
      "Epoch:19 Loss:3.925334488845556 Accuracy:0.3161733681397722 Loss:3.3276776323715844 Accuracy:0.4021863726278146\n",
      "Epoch:20 Loss:3.911056086421013\n",
      "Epoch:20 Loss:3.911056086421013 Accuracy:0.31302458939275574 Loss:3.3143114844957986 Accuracy:0.40417812888820964\n",
      "Epoch:21 Loss:3.9039361334794402\n",
      "Epoch:21 Loss:3.9039361334794402 Accuracy:0.29875901788802073 Loss:3.2980728348096213 Accuracy:0.4068967631707589\n",
      "Epoch:22 Loss:3.8976522837999874\n",
      "Epoch:22 Loss:3.8976522837999874 Accuracy:0.3152804998130715 Loss:3.2967217167218528 Accuracy:0.4075377943615119\n",
      "Epoch:23 Loss:3.8875944013089203\n",
      "Epoch:23 Loss:3.8875944013089203 Accuracy:0.3144479322090613 Loss:3.2898371567328772 Accuracy:0.38281824191411334\n",
      "Epoch:24 Loss:3.881402863685741\n",
      "Epoch:24 Loss:3.881402863685741 Accuracy:0.3119859016748495 Loss:3.273696174224218 Accuracy:0.41078298663099605\n"
     ]
    }
   ],
   "source": [
    "learner.run_epochs(train_tokens,valid_tokens,25)"
   ]
  },
  {
   "cell_type": "code",
   "execution_count": null,
   "metadata": {},
   "outputs": [
    {
     "name": "stdout",
     "output_type": "stream",
     "text": [
      "Epoch:0 Loss:3.873537317841454\n",
      "Epoch:0 Loss:3.873537317841454 Accuracy:0.3181768861492123 Loss:3.2588779081900916 Accuracy:0.41362753448386985\n",
      "Epoch:1 Loss:3.868222590365441\n",
      "Epoch:1 Loss:3.868222590365441 Accuracy:0.31397012122835727 Loss:3.241112286845843 Accuracy:0.38897666707634926\n",
      "Epoch:2 Loss:3.860879651861253\n",
      "Epoch:2 Loss:3.860879651861253 Accuracy:0.3072229448486777 Loss:3.2422984590133033 Accuracy:0.38901673071086407\n",
      "Epoch:3 Loss:3.851597041155385\n",
      "Epoch:3 Loss:3.851597041155385 Accuracy:0.3078675010958604 Loss:3.2296492556730905 Accuracy:0.39083678523699444\n",
      "Epoch:4 Loss:3.8460848053121355\n",
      "Epoch:4 Loss:3.8460848053121355 Accuracy:0.32547321955012853 Loss:3.2283828804890313 Accuracy:0.4186756145209074\n",
      "Epoch:5 Loss:3.8411132884078203\n",
      "Epoch:5 Loss:3.8411132884078203 Accuracy:0.3099154373404732 Loss:3.2195165107647576 Accuracy:0.42012364603579044\n",
      "Epoch:6 Loss:3.8350599329722557\n",
      "Epoch:6 Loss:3.8350599329722557 Accuracy:0.324629207974986 Loss:3.20609421034654 Accuracy:0.42247025730709237\n",
      "Epoch:7 Loss:3.830164126062815\n",
      "Epoch:7 Loss:3.830164126062815 Accuracy:0.319674265595664 Loss:3.20759583512942 Accuracy:0.3949920069426298\n",
      "Epoch:8 Loss:3.826884315202111\n",
      "Epoch:8 Loss:3.826884315202111 Accuracy:0.3076724152554545 Loss:3.1986375202735267 Accuracy:0.4241872901717822\n"
     ]
    }
   ],
   "source": [
    "learner.run_epochs(train_tokens,valid_tokens,25)"
   ]
  },
  {
   "cell_type": "code",
   "execution_count": 48,
   "metadata": {},
   "outputs": [],
   "source": [
    "torch.save(model.state_dict(),f'{DATAPATH}/inter/varybptt_model_state_dict')\n",
    "torch.save(optimizer.state_dict(),f'{DATAPATH}/inter/varybptt_learner_state_dict')"
   ]
  },
  {
   "cell_type": "code",
   "execution_count": 49,
   "metadata": {},
   "outputs": [],
   "source": [
    "model.unfreeze_embedding()"
   ]
  },
  {
   "cell_type": "code",
   "execution_count": 50,
   "metadata": {},
   "outputs": [
    {
     "data": {
      "text/plain": [
       "(True, True)"
      ]
     },
     "execution_count": 50,
     "metadata": {},
     "output_type": "execute_result"
    }
   ],
   "source": [
    "model.encoder.weight.requires_grad, model.decoder.weight.requires_grad"
   ]
  },
  {
   "cell_type": "code",
   "execution_count": 51,
   "metadata": {},
   "outputs": [
    {
     "name": "stdout",
     "output_type": "stream",
     "text": [
      "Epoch:0 Loss:2.455076994214739\n",
      "Epoch:0 Loss:2.455076994214739 Accuracy:0.4894116648605892 Loss:1.574017842610677 Accuracy:0.6905677914619446\n",
      "Epoch:1 Loss:2.362198153057614\n",
      "Epoch:1 Loss:2.362198153057614 Accuracy:0.5339623262753358 Loss:1.4725878238677979 Accuracy:0.7192308108011881\n",
      "Epoch:2 Loss:2.2712207356014766\n",
      "Epoch:2 Loss:2.2712207356014766 Accuracy:0.5521716805728706 Loss:1.3900961875915527 Accuracy:0.7353480259577433\n",
      "Epoch:3 Loss:2.1909215859004427\n",
      "Epoch:3 Loss:2.1909215859004427 Accuracy:0.5655832631247384 Loss:1.3382569551467896 Accuracy:0.7434982061386108\n",
      "Epoch:4 Loss:2.1503394874366553\n",
      "Epoch:4 Loss:2.1503394874366553 Accuracy:0.5730291685542545 Loss:1.2933137814203899 Accuracy:0.747619092464447\n",
      "Epoch:5 Loss:2.1151228646437326\n",
      "Epoch:5 Loss:2.1151228646437326 Accuracy:0.5771593401829401 Loss:1.2713415225346882 Accuracy:0.7546703616778055\n",
      "Epoch:6 Loss:2.0871008430208478\n",
      "Epoch:6 Loss:2.0871008430208478 Accuracy:0.5828100732394628 Loss:1.2303366263707478 Accuracy:0.7603480021158854\n",
      "Epoch:7 Loss:2.049787415398492\n",
      "Epoch:7 Loss:2.049787415398492 Accuracy:0.5878686490986083 Loss:1.2014473676681519 Accuracy:0.7624542514483134\n",
      "Epoch:8 Loss:2.0105047290389604\n",
      "Epoch:8 Loss:2.0105047290389604 Accuracy:0.5927373944102107 Loss:1.1757161617279053 Accuracy:0.7658425172170004\n",
      "Epoch:9 Loss:2.0002735687626734\n",
      "Epoch:9 Loss:2.0002735687626734 Accuracy:0.5935552600357268 Loss:1.1490439176559448 Accuracy:0.769505520661672\n",
      "Epoch:10 Loss:1.9624593257904053\n",
      "Epoch:10 Loss:1.9624593257904053 Accuracy:0.5986927230107156 Loss:1.118380864461263 Accuracy:0.7742674152056376\n",
      "Epoch:11 Loss:1.93988898396492\n",
      "Epoch:11 Loss:1.93988898396492 Accuracy:0.5997661103804907 Loss:1.1025839646657307 Accuracy:0.7743590275446574\n",
      "Epoch:12 Loss:1.9222989579041798\n",
      "Epoch:12 Loss:1.9222989579041798 Accuracy:0.6029154989454482 Loss:1.0795907974243164 Accuracy:0.7793040672938029\n",
      "Epoch:13 Loss:1.8930424054463704\n",
      "Epoch:13 Loss:1.8930424054463704 Accuracy:0.6075712260272768 Loss:1.067053000132243 Accuracy:0.7815934618314108\n",
      "Epoch:14 Loss:1.8972607089413538\n",
      "Epoch:14 Loss:1.8972607089413538 Accuracy:0.6069520993365182 Loss:1.0264872511227925 Accuracy:0.7886447310447693\n",
      "Epoch:15 Loss:1.84985171424018\n",
      "Epoch:15 Loss:1.84985171424018 Accuracy:0.6121854914559258 Loss:1.0155606071154277 Accuracy:0.7915751139322916\n",
      "Epoch:16 Loss:1.8313815924856398\n",
      "Epoch:16 Loss:1.8313815924856398 Accuracy:0.6158172984917959 Loss:0.9951638976732889 Accuracy:0.7942308187484741\n",
      "Epoch:17 Loss:1.8362487885687087\n",
      "Epoch:17 Loss:1.8362487885687087 Accuracy:0.6147409627834955 Loss:0.9769243200620016 Accuracy:0.7954212625821432\n",
      "Epoch:18 Loss:1.804358227385415\n",
      "Epoch:18 Loss:1.804358227385415 Accuracy:0.6182440453105502 Loss:0.9640217026074728 Accuracy:0.8003663420677185\n",
      "Epoch:19 Loss:1.782251216269828\n",
      "Epoch:19 Loss:1.782251216269828 Accuracy:0.6216929893235903 Loss:0.9513073563575745 Accuracy:0.8021978338559469\n",
      "Epoch:20 Loss:1.7739205701010567\n",
      "Epoch:20 Loss:1.7739205701010567 Accuracy:0.6226452384676252 Loss:0.9297193884849548 Accuracy:0.8076007763544718\n",
      "Epoch:21 Loss:1.753879223551069\n",
      "Epoch:21 Loss:1.753879223551069 Accuracy:0.6255494832992554 Loss:0.9041716853777567 Accuracy:0.8117216428120931\n",
      "Epoch:22 Loss:1.7346980383521633\n",
      "Epoch:22 Loss:1.7346980383521633 Accuracy:0.6288153748763236 Loss:0.8859140674273173 Accuracy:0.8145604928334554\n",
      "Epoch:23 Loss:1.7075832298823765\n",
      "Epoch:23 Loss:1.7075832298823765 Accuracy:0.6316248348781041 Loss:0.8699632485707601 Accuracy:0.8169414202372233\n",
      "Epoch:24 Loss:1.7091237620303505\n",
      "Epoch:24 Loss:1.7091237620303505 Accuracy:0.6317814008185738 Loss:0.8488061428070068 Accuracy:0.8201465606689453\n",
      "Epoch:25 Loss:1.6867163624082293\n",
      "Epoch:25 Loss:1.6867163624082293 Accuracy:0.6359183975628444 Loss:0.8370538353919983 Accuracy:0.8217949072519938\n",
      "Epoch:26 Loss:1.6663733141762869\n",
      "Epoch:26 Loss:1.6663733141762869 Accuracy:0.640071702003479 Loss:0.8187755544980367 Accuracy:0.8323260347048441\n",
      "Epoch:27 Loss:1.656964888443818\n",
      "Epoch:27 Loss:1.656964888443818 Accuracy:0.6399026625865215 Loss:0.8107272585233053 Accuracy:0.8279304305712382\n",
      "Epoch:28 Loss:1.6315841061728342\n",
      "Epoch:28 Loss:1.6315841061728342 Accuracy:0.6426995073046003 Loss:0.7970619996388754 Accuracy:0.8311355511347452\n",
      "Epoch:29 Loss:1.6379104091061487\n",
      "Epoch:29 Loss:1.6379104091061487 Accuracy:0.6428601609336005 Loss:0.7846249143282572 Accuracy:0.8325091997782389\n",
      "Epoch:30 Loss:1.6194271802902223\n",
      "Epoch:30 Loss:1.6194271802902223 Accuracy:0.6459105474608285 Loss:0.7624580264091492 Accuracy:0.8373626669247946\n",
      "Epoch:31 Loss:1.5880581481116158\n",
      "Epoch:31 Loss:1.5880581481116158 Accuracy:0.6510228259222848 Loss:0.7559120059013367 Accuracy:0.841117262840271\n",
      "Epoch:32 Loss:1.5810842249128554\n",
      "Epoch:32 Loss:1.5810842249128554 Accuracy:0.6497637927532196 Loss:0.7513285676638285 Accuracy:0.8394688963890076\n",
      "Epoch:33 Loss:1.5842366797583445\n",
      "Epoch:33 Loss:1.5842366797583445 Accuracy:0.6500863722392491 Loss:0.7312378287315369 Accuracy:0.8467033306757609\n",
      "Epoch:34 Loss:1.5609818895657857\n",
      "Epoch:34 Loss:1.5609818895657857 Accuracy:0.6555708514319526 Loss:0.7155296007792155 Accuracy:0.8502747615178426\n",
      "Epoch:35 Loss:1.5429258721215384\n",
      "Epoch:35 Loss:1.5429258721215384 Accuracy:0.657374267918723 Loss:0.7082926432291666 Accuracy:0.8475275238355001\n",
      "Epoch:36 Loss:1.5297872953944736\n",
      "Epoch:36 Loss:1.5297872953944736 Accuracy:0.6584823379913965 Loss:0.7038761178652445 Accuracy:0.8475275238355001\n",
      "Epoch:37 Loss:1.5367610189649794\n",
      "Epoch:37 Loss:1.5367610189649794 Accuracy:0.6564248866505094 Loss:0.7054798007011414 Accuracy:0.8451465566953024\n",
      "Epoch:38 Loss:1.5255574882030487\n",
      "Epoch:38 Loss:1.5255574882030487 Accuracy:0.659569631020228 Loss:0.67805415391922 Accuracy:0.8532051841417948\n",
      "Epoch:39 Loss:1.5028531449181692\n",
      "Epoch:39 Loss:1.5028531449181692 Accuracy:0.663233939238957 Loss:0.6736268599828085 Accuracy:0.8556776841481527\n",
      "Epoch:40 Loss:1.5063838263352711\n",
      "Epoch:40 Loss:1.5063838263352711 Accuracy:0.6622843643029531 Loss:0.663176159063975 Accuracy:0.8591575423876444\n",
      "Epoch:41 Loss:1.4847167375925425\n",
      "Epoch:41 Loss:1.4847167375925425 Accuracy:0.6666585174766747 Loss:0.6650002400080363 Accuracy:0.8547619382540385\n",
      "Epoch:42 Loss:1.4835407866372003\n",
      "Epoch:42 Loss:1.4835407866372003 Accuracy:0.6646085729201635 Loss:0.643807570139567 Accuracy:0.8587912519772848\n",
      "Epoch:43 Loss:1.461147665977478\n",
      "Epoch:43 Loss:1.461147665977478 Accuracy:0.6674804074423654 Loss:0.6387837727864584 Accuracy:0.8610806067784628\n",
      "Epoch:44 Loss:1.4472778605090246\n",
      "Epoch:44 Loss:1.4472778605090246 Accuracy:0.671344992187288 Loss:0.6303781668345133 Accuracy:0.8641026020050049\n",
      "Epoch:45 Loss:1.4444188731057304\n",
      "Epoch:45 Loss:1.4444188731057304 Accuracy:0.6722449285643441 Loss:0.6240981817245483 Accuracy:0.8645604848861694\n",
      "Epoch:46 Loss:1.4402674879346575\n",
      "Epoch:46 Loss:1.4402674879346575 Accuracy:0.671232715674809 Loss:0.6067822178204855 Accuracy:0.8686813513437907\n",
      "Epoch:47 Loss:1.4192199773258634\n",
      "Epoch:47 Loss:1.4192199773258634 Accuracy:0.6751845015419854 Loss:0.5936687390009562 Accuracy:0.8695055445035299\n",
      "Epoch:48 Loss:1.4161393063408987\n",
      "Epoch:48 Loss:1.4161393063408987 Accuracy:0.6769490429333278 Loss:0.5854109128316244 Accuracy:0.8752747774124146\n",
      "Epoch:49 Loss:1.397547431894251\n",
      "Epoch:49 Loss:1.397547431894251 Accuracy:0.6787093023996096 Loss:0.5846731066703796 Accuracy:0.8724359472592672\n"
     ]
    }
   ],
   "source": [
    "learner.run_epochs(train_tokens,valid_tokens,50)"
   ]
  },
  {
   "cell_type": "code",
   "execution_count": 52,
   "metadata": {},
   "outputs": [
    {
     "name": "stdout",
     "output_type": "stream",
     "text": [
      "Epoch:0 Loss:1.4005129079560976\n",
      "Epoch:0 Loss:1.4005129079560976 Accuracy:0.6779703530105384 Loss:0.5738116105397543 Accuracy:0.8760989507039388\n",
      "Epoch:1 Loss:1.384764916367001\n",
      "Epoch:1 Loss:1.384764916367001 Accuracy:0.6801707049210867 Loss:0.5655213793118795 Accuracy:0.8769231041272482\n",
      "Epoch:2 Loss:1.3963093314852033\n",
      "Epoch:2 Loss:1.3963093314852033 Accuracy:0.6796232666288103 Loss:0.5642988483111063 Accuracy:0.8788461883862814\n",
      "Epoch:3 Loss:1.3806347846984863\n",
      "Epoch:3 Loss:1.3806347846984863 Accuracy:0.6823077235903059 Loss:0.551474134127299 Accuracy:0.8780220150947571\n",
      "Epoch:4 Loss:1.3543897458485195\n",
      "Epoch:4 Loss:1.3543897458485195 Accuracy:0.6872370788029262 Loss:0.5427469611167908 Accuracy:0.8802197972933451\n",
      "Epoch:5 Loss:1.3410670586994715\n",
      "Epoch:5 Loss:1.3410670586994715 Accuracy:0.6885008113724845 Loss:0.5266106923421224 Accuracy:0.8869963884353638\n",
      "Epoch:6 Loss:1.3506292036601475\n",
      "Epoch:6 Loss:1.3506292036601475 Accuracy:0.6883438331740243 Loss:0.5227194825808207 Accuracy:0.8872710863749186\n",
      "Epoch:7 Loss:1.3496377672467912\n",
      "Epoch:7 Loss:1.3496377672467912 Accuracy:0.6878650222505842 Loss:0.5299135645230612 Accuracy:0.8821429212888082\n",
      "Epoch:8 Loss:1.3235021216528757\n",
      "Epoch:8 Loss:1.3235021216528757 Accuracy:0.6915412170546396 Loss:0.5142259895801544 Accuracy:0.8863553603490194\n",
      "Epoch:9 Loss:1.328170643533979\n",
      "Epoch:9 Loss:1.328170643533979 Accuracy:0.6913265636989049 Loss:0.512482633193334 Accuracy:0.8887363076210022\n",
      "Epoch:10 Loss:1.3186415566338434\n",
      "Epoch:10 Loss:1.3186415566338434 Accuracy:0.6913690782255597 Loss:0.5033677617708842 Accuracy:0.8891026178995768\n",
      "Epoch:11 Loss:1.3138748952320645\n",
      "Epoch:11 Loss:1.3138748952320645 Accuracy:0.6936656526156835 Loss:0.49693363904953003 Accuracy:0.892216165860494\n",
      "Epoch:12 Loss:1.2876069341387069\n",
      "Epoch:12 Loss:1.2876069341387069 Accuracy:0.6972944106374468 Loss:0.4910852015018463 Accuracy:0.8917582829793295\n",
      "Epoch:13 Loss:1.2802318062101092\n",
      "Epoch:13 Loss:1.2802318062101092 Accuracy:0.6991000890731811 Loss:0.48255101839701336 Accuracy:0.8962454597155253\n",
      "Epoch:14 Loss:1.297577828168869\n",
      "Epoch:14 Loss:1.297577828168869 Accuracy:0.6957142535183165 Loss:0.47212571899096173 Accuracy:0.8985348343849182\n",
      "Epoch:15 Loss:1.2843823364802769\n",
      "Epoch:15 Loss:1.2843823364802769 Accuracy:0.6971428871154786 Loss:0.4595799744129181 Accuracy:0.9035714666048685\n",
      "Epoch:16 Loss:1.2778519325786166\n",
      "Epoch:16 Loss:1.2778519325786166 Accuracy:0.6989917076296277 Loss:0.45382678508758545 Accuracy:0.900915781656901\n",
      "Epoch:17 Loss:1.2602326222828457\n",
      "Epoch:17 Loss:1.2602326222828457 Accuracy:0.7012490953717913 Loss:0.45058390498161316 Accuracy:0.9022893905639648\n",
      "Epoch:18 Loss:1.258663472202089\n",
      "Epoch:18 Loss:1.258663472202089 Accuracy:0.7007707903782526 Loss:0.4407772322495778 Accuracy:0.9054029782613119\n",
      "Epoch:19 Loss:1.2524375551276736\n",
      "Epoch:19 Loss:1.2524375551276736 Accuracy:0.70228178302447 Loss:0.4306013186772664 Accuracy:0.9054945508639017\n"
     ]
    }
   ],
   "source": [
    "learner.run_epochs(train_tokens,valid_tokens,20)"
   ]
  },
  {
   "cell_type": "code",
   "execution_count": 53,
   "metadata": {},
   "outputs": [
    {
     "name": "stdout",
     "output_type": "stream",
     "text": [
      "Epoch:0 Loss:1.2286284617015293\n",
      "Epoch:0 Loss:1.2286284617015293 Accuracy:0.7059439931597028 Loss:0.4248349368572235 Accuracy:0.906501849492391\n",
      "Epoch:1 Loss:1.228726397241865\n",
      "Epoch:1 Loss:1.228726397241865 Accuracy:0.7059327346937997 Loss:0.42250380913416546 Accuracy:0.9094322721163431\n",
      "Epoch:2 Loss:1.243957143080862\n",
      "Epoch:2 Loss:1.243957143080862 Accuracy:0.7039552519195958 Loss:0.4171498119831085 Accuracy:0.9095238447189331\n",
      "Epoch:3 Loss:1.2298704896654402\n",
      "Epoch:3 Loss:1.2298704896654402 Accuracy:0.7064207536833627 Loss:0.407338410615921 Accuracy:0.9103480180104574\n",
      "Epoch:4 Loss:1.2144546045197382\n",
      "Epoch:4 Loss:1.2144546045197382 Accuracy:0.7080510126219856 Loss:0.4001307984193166 Accuracy:0.9136447509129842\n",
      "Epoch:5 Loss:1.2084093425008986\n",
      "Epoch:5 Loss:1.2084093425008986 Accuracy:0.7102856387694677 Loss:0.40115875999132794 Accuracy:0.9130952755610148\n",
      "Epoch:6 Loss:1.206751935822623\n",
      "Epoch:6 Loss:1.206751935822623 Accuracy:0.7094348788261413 Loss:0.389671911795934 Accuracy:0.9185897707939148\n",
      "Epoch:7 Loss:1.1838096545802221\n",
      "Epoch:7 Loss:1.1838096545802221 Accuracy:0.7150634742445416 Loss:0.38970668117205304 Accuracy:0.9162088433901469\n",
      "Epoch:8 Loss:1.1964853500065051\n",
      "Epoch:8 Loss:1.1964853500065051 Accuracy:0.7126279630159077 Loss:0.3863823513189952 Accuracy:0.9189561009407043\n",
      "Epoch:9 Loss:1.194244452885219\n",
      "Epoch:9 Loss:1.194244452885219 Accuracy:0.7130534103938512 Loss:0.3774067560831706 Accuracy:0.9219780762990316\n",
      "Epoch:10 Loss:1.1852065971919468\n",
      "Epoch:10 Loss:1.1852065971919468 Accuracy:0.7143799407141549 Loss:0.37314552068710327 Accuracy:0.9207875927289327\n",
      "Epoch:11 Loss:1.1604336533281538\n",
      "Epoch:11 Loss:1.1604336533281538 Accuracy:0.7180539286798902 Loss:0.3701561192671458 Accuracy:0.920421282450358\n",
      "Epoch:12 Loss:1.1653702769960677\n",
      "Epoch:12 Loss:1.1653702769960677 Accuracy:0.7169616733278547 Loss:0.37052029371261597 Accuracy:0.9197802742322286\n",
      "Epoch:13 Loss:1.1772339795086835\n",
      "Epoch:13 Loss:1.1772339795086835 Accuracy:0.7153029764020765 Loss:0.3646429379781087 Accuracy:0.9221612215042114\n",
      "Epoch:14 Loss:1.1512002638408116\n",
      "Epoch:14 Loss:1.1512002638408116 Accuracy:0.7204883916037423 Loss:0.3597835997740428 Accuracy:0.9215201934178671\n",
      "Epoch:15 Loss:1.1525204082330067\n",
      "Epoch:15 Loss:1.1525204082330067 Accuracy:0.7193804366721047 Loss:0.35134804248809814 Accuracy:0.9239011406898499\n",
      "Epoch:16 Loss:1.1442707551492226\n",
      "Epoch:16 Loss:1.1442707551492226 Accuracy:0.7211516177332079 Loss:0.35278178254763287 Accuracy:0.9235348304112753\n",
      "Epoch:17 Loss:1.142245670727321\n",
      "Epoch:17 Loss:1.142245670727321 Accuracy:0.7221507396016802 Loss:0.359426607688268 Accuracy:0.9201465646425883\n",
      "Epoch:18 Loss:1.137427853213416\n",
      "Epoch:18 Loss:1.137427853213416 Accuracy:0.7221403039164014 Loss:0.34530360500017804 Accuracy:0.9235348304112753\n",
      "Epoch:19 Loss:1.119051295850012\n",
      "Epoch:19 Loss:1.119051295850012 Accuracy:0.7251908166540993 Loss:0.34305981794993085 Accuracy:0.9250000317891439\n"
     ]
    }
   ],
   "source": [
    "learner.run_epochs(train_tokens,valid_tokens,20)"
   ]
  },
  {
   "cell_type": "code",
   "execution_count": 54,
   "metadata": {},
   "outputs": [],
   "source": [
    "torch.save(model.state_dict(),f'{DATAPATH}/inter/varybptt_model_state_dict_unfreeze')\n",
    "torch.save(optimizer.state_dict(),f'{DATAPATH}/inter/varybptt_learner_state_dict_unfreeze')"
   ]
  },
  {
   "cell_type": "code",
   "execution_count": 55,
   "metadata": {},
   "outputs": [
    {
     "name": "stderr",
     "output_type": "stream",
     "text": [
      "/home/kirana/anaconda3/lib/python3.7/site-packages/torch/serialization.py:256: UserWarning: Couldn't retrieve source code for container of type language_model. It won't be checked for correctness upon loading.\n",
      "  \"type \" + obj.__name__ + \". It won't be checked \"\n"
     ]
    }
   ],
   "source": [
    "torch.save (model,f'{DATAPATH}/inter/varybptt_model_awd_lstm')\n",
    "torch.save (optimizer,f'{DATAPATH}/inter/varybptt_optimizer_awd_lstm')\n",
    "torch.save (learner,f'{DATAPATH}/inter/varybptt_learner_awd_lstm')"
   ]
  },
  {
   "cell_type": "code",
   "execution_count": 56,
   "metadata": {},
   "outputs": [],
   "source": [
    "pretrained_lm_weights=model.encoder.weight.data.cpu().numpy()\n",
    "import pickle\n",
    "pickle.dump(pretrained_lm_weights,open(f'{DATAPATH}/inter/varybpttpretrained_lm_weights','wb'))"
   ]
  },
  {
   "cell_type": "code",
   "execution_count": null,
   "metadata": {},
   "outputs": [],
   "source": []
  }
 ],
 "metadata": {
  "kernelspec": {
   "display_name": "Python 3",
   "language": "python",
   "name": "python3"
  },
  "language_info": {
   "codemirror_mode": {
    "name": "ipython",
    "version": 3
   },
   "file_extension": ".py",
   "mimetype": "text/x-python",
   "name": "python",
   "nbconvert_exporter": "python",
   "pygments_lexer": "ipython3",
   "version": "3.7.3"
  }
 },
 "nbformat": 4,
 "nbformat_minor": 2
}
